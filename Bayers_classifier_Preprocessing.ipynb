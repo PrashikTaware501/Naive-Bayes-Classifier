{
 "cells": [
  {
   "cell_type": "markdown",
   "id": "fc24d756",
   "metadata": {},
   "source": [
    "# Imports #"
   ]
  },
  {
   "cell_type": "code",
   "execution_count": 1,
   "id": "8e8da2b2",
   "metadata": {},
   "outputs": [],
   "source": [
    "from os import walk\n",
    "from os.path import join\n",
    "\n",
    "import pandas as pd\n",
    "\n",
    "import matplotlib.pyplot as plt\n",
    "\n",
    "\n",
    "import numpy as np\n",
    "\n",
    "import nltk\n",
    "from nltk.stem import PorterStemmer\n",
    "from nltk.corpus import stopwords\n",
    "from nltk.tokenize import word_tokenize\n",
    "\n",
    "from bs4 import BeautifulSoup\n",
    "\n",
    "from sklearn.model_selection import train_test_split\n",
    "\n",
    "%matplotlib inline"
   ]
  },
  {
   "cell_type": "markdown",
   "id": "f0b61392",
   "metadata": {},
   "source": [
    "# File paths and Constants #\n"
   ]
  },
  {
   "cell_type": "code",
   "execution_count": 2,
   "id": "09b53be7",
   "metadata": {},
   "outputs": [],
   "source": [
    "spam_1 = 'SpamData/01_Processing/spam_assassin_corpus/spam_1'\n",
    "spam_2 = 'SpamData/01_Processing/spam_assassin_corpus/spam_2'\n",
    "ham_1 = 'SpamData/01_Processing/spam_assassin_corpus/easy_ham_1'\n",
    "ham_2 = 'SpamData/01_Processing/spam_assassin_corpus/easy_ham_2'\n",
    "\n",
    "##\n",
    "spam_cat = 1\n",
    "ham_cat = 0\n",
    "vocab_size = 2500\n",
    "\n",
    "###\n",
    "Data_json = \"SpamData/01_Processing/email-text-data.json\"\n",
    "WORD_ID_FILE = \"SpamData/01_Processing/word-by-id.csv\"\n",
    "\n",
    "TRAINING_DATA_FILE = \"SpamData/02_Training/train-data.txt\"\n",
    "TEST_DATA_FILE = \"SpamData/03_Testing/test-data.txt\""
   ]
  },
  {
   "cell_type": "markdown",
   "id": "cb512278",
   "metadata": {},
   "source": [
    "# Generator Function For Email Body Extraction #"
   ]
  },
  {
   "cell_type": "code",
   "execution_count": 3,
   "id": "39b6044a",
   "metadata": {},
   "outputs": [],
   "source": [
    "def email_body_generator(path):\n",
    "    \n",
    "    for root, dirnames, filenames in walk(path):\n",
    "        for file_name in filenames:\n",
    "            \n",
    "            filepath = join(root, file_name)\n",
    "            \n",
    "            stream = open(filepath, encoding='latin-1')\n",
    "\n",
    "            is_body = False\n",
    "            lines = []\n",
    "\n",
    "            for line in stream:\n",
    "                if is_body:\n",
    "                    lines.append(line)\n",
    "                elif line == '\\n':\n",
    "                    is_body = True\n",
    "\n",
    "            stream.close()\n",
    "\n",
    "            email_body = '\\n'.join(lines)\n",
    "            \n",
    "            yield file_name, email_body\n",
    "\n",
    "            \n"
   ]
  },
  {
   "cell_type": "code",
   "execution_count": 4,
   "id": "bffb9ccc",
   "metadata": {},
   "outputs": [],
   "source": [
    "def df_from_directory(path, classification):\n",
    "    rows = []\n",
    "    row_names = []\n",
    "    \n",
    "    for file_name, email_body in email_body_generator(path):\n",
    "        rows.append({'MESSAGE': email_body, 'CATEGORY': classification})\n",
    "        row_names.append(file_name)\n",
    "        \n",
    "    return pd.DataFrame(rows, index=row_names)"
   ]
  },
  {
   "cell_type": "code",
   "execution_count": 5,
   "id": "372161de",
   "metadata": {
    "scrolled": true
   },
   "outputs": [
    {
     "name": "stderr",
     "output_type": "stream",
     "text": [
      "C:\\Users\\LENOVO\\AppData\\Local\\Temp\\ipykernel_23772\\2238034963.py:2: FutureWarning: The frame.append method is deprecated and will be removed from pandas in a future version. Use pandas.concat instead.\n",
      "  spam_email= spam_email.append(df_from_directory(spam_2, spam_cat))\n"
     ]
    },
    {
     "data": {
      "text/html": [
       "<div>\n",
       "<style scoped>\n",
       "    .dataframe tbody tr th:only-of-type {\n",
       "        vertical-align: middle;\n",
       "    }\n",
       "\n",
       "    .dataframe tbody tr th {\n",
       "        vertical-align: top;\n",
       "    }\n",
       "\n",
       "    .dataframe thead th {\n",
       "        text-align: right;\n",
       "    }\n",
       "</style>\n",
       "<table border=\"1\" class=\"dataframe\">\n",
       "  <thead>\n",
       "    <tr style=\"text-align: right;\">\n",
       "      <th></th>\n",
       "      <th>MESSAGE</th>\n",
       "      <th>CATEGORY</th>\n",
       "    </tr>\n",
       "  </thead>\n",
       "  <tbody>\n",
       "    <tr>\n",
       "      <th>00001.7848dde101aa985090474a91ec93fcf0</th>\n",
       "      <td>&lt;!DOCTYPE HTML PUBLIC \"-//W3C//DTD HTML 4.0 Tr...</td>\n",
       "      <td>1</td>\n",
       "    </tr>\n",
       "    <tr>\n",
       "      <th>00002.d94f1b97e48ed3b553b3508d116e6a09</th>\n",
       "      <td>1) Fight The Risk of Cancer!\\n\\nhttp://www.adc...</td>\n",
       "      <td>1</td>\n",
       "    </tr>\n",
       "    <tr>\n",
       "      <th>00003.2ee33bc6eacdb11f38d052c44819ba6c</th>\n",
       "      <td>1) Fight The Risk of Cancer!\\n\\nhttp://www.adc...</td>\n",
       "      <td>1</td>\n",
       "    </tr>\n",
       "    <tr>\n",
       "      <th>00004.eac8de8d759b7e74154f142194282724</th>\n",
       "      <td>##############################################...</td>\n",
       "      <td>1</td>\n",
       "    </tr>\n",
       "    <tr>\n",
       "      <th>00005.57696a39d7d84318ce497886896bf90d</th>\n",
       "      <td>I thought you might like these:\\n\\n1) Slim Dow...</td>\n",
       "      <td>1</td>\n",
       "    </tr>\n",
       "  </tbody>\n",
       "</table>\n",
       "</div>"
      ],
      "text/plain": [
       "                                                                                  MESSAGE  \\\n",
       "00001.7848dde101aa985090474a91ec93fcf0  <!DOCTYPE HTML PUBLIC \"-//W3C//DTD HTML 4.0 Tr...   \n",
       "00002.d94f1b97e48ed3b553b3508d116e6a09  1) Fight The Risk of Cancer!\\n\\nhttp://www.adc...   \n",
       "00003.2ee33bc6eacdb11f38d052c44819ba6c  1) Fight The Risk of Cancer!\\n\\nhttp://www.adc...   \n",
       "00004.eac8de8d759b7e74154f142194282724  ##############################################...   \n",
       "00005.57696a39d7d84318ce497886896bf90d  I thought you might like these:\\n\\n1) Slim Dow...   \n",
       "\n",
       "                                        CATEGORY  \n",
       "00001.7848dde101aa985090474a91ec93fcf0         1  \n",
       "00002.d94f1b97e48ed3b553b3508d116e6a09         1  \n",
       "00003.2ee33bc6eacdb11f38d052c44819ba6c         1  \n",
       "00004.eac8de8d759b7e74154f142194282724         1  \n",
       "00005.57696a39d7d84318ce497886896bf90d         1  "
      ]
     },
     "execution_count": 5,
     "metadata": {},
     "output_type": "execute_result"
    }
   ],
   "source": [
    "spam_email = df_from_directory(spam_1, spam_cat)\n",
    "spam_email= spam_email.append(df_from_directory(spam_2, spam_cat))\n",
    "spam_email.head()\n"
   ]
  },
  {
   "cell_type": "code",
   "execution_count": 6,
   "id": "77255ccf",
   "metadata": {},
   "outputs": [
    {
     "data": {
      "text/plain": [
       "(1896, 2)"
      ]
     },
     "execution_count": 6,
     "metadata": {},
     "output_type": "execute_result"
    }
   ],
   "source": [
    "spam_email.shape"
   ]
  },
  {
   "cell_type": "code",
   "execution_count": 7,
   "id": "fba5569b",
   "metadata": {},
   "outputs": [
    {
     "name": "stderr",
     "output_type": "stream",
     "text": [
      "C:\\Users\\LENOVO\\AppData\\Local\\Temp\\ipykernel_23772\\84638087.py:2: FutureWarning: The frame.append method is deprecated and will be removed from pandas in a future version. Use pandas.concat instead.\n",
      "  ham_email = ham_email.append(df_from_directory(ham_2,ham_cat))\n"
     ]
    },
    {
     "data": {
      "text/html": [
       "<div>\n",
       "<style scoped>\n",
       "    .dataframe tbody tr th:only-of-type {\n",
       "        vertical-align: middle;\n",
       "    }\n",
       "\n",
       "    .dataframe tbody tr th {\n",
       "        vertical-align: top;\n",
       "    }\n",
       "\n",
       "    .dataframe thead th {\n",
       "        text-align: right;\n",
       "    }\n",
       "</style>\n",
       "<table border=\"1\" class=\"dataframe\">\n",
       "  <thead>\n",
       "    <tr style=\"text-align: right;\">\n",
       "      <th></th>\n",
       "      <th>MESSAGE</th>\n",
       "      <th>CATEGORY</th>\n",
       "    </tr>\n",
       "  </thead>\n",
       "  <tbody>\n",
       "    <tr>\n",
       "      <th>00001.7c53336b37003a9286aba55d2945844c</th>\n",
       "      <td>Date:        Wed, 21 Aug 2002 10:54:46 -05...</td>\n",
       "      <td>0</td>\n",
       "    </tr>\n",
       "    <tr>\n",
       "      <th>00002.9c4069e25e1ef370c078db7ee85ff9ac</th>\n",
       "      <td>Martin A posted:\\n\\nTassos Papadopoulos, the G...</td>\n",
       "      <td>0</td>\n",
       "    </tr>\n",
       "    <tr>\n",
       "      <th>00003.860e3c3cee1b42ead714c5c874fe25f7</th>\n",
       "      <td>Man Threatens Explosion In Moscow \\n\\n\\n\\nThur...</td>\n",
       "      <td>0</td>\n",
       "    </tr>\n",
       "    <tr>\n",
       "      <th>00004.864220c5b6930b209cc287c361c99af1</th>\n",
       "      <td>Klez: The Virus That Won't Die\\n\\n \\n\\nAlready...</td>\n",
       "      <td>0</td>\n",
       "    </tr>\n",
       "    <tr>\n",
       "      <th>00005.bf27cdeaf0b8c4647ecd61b1d09da613</th>\n",
       "      <td>&gt;  in adding cream to spaghetti carbonara, whi...</td>\n",
       "      <td>0</td>\n",
       "    </tr>\n",
       "  </tbody>\n",
       "</table>\n",
       "</div>"
      ],
      "text/plain": [
       "                                                                                  MESSAGE  \\\n",
       "00001.7c53336b37003a9286aba55d2945844c      Date:        Wed, 21 Aug 2002 10:54:46 -05...   \n",
       "00002.9c4069e25e1ef370c078db7ee85ff9ac  Martin A posted:\\n\\nTassos Papadopoulos, the G...   \n",
       "00003.860e3c3cee1b42ead714c5c874fe25f7  Man Threatens Explosion In Moscow \\n\\n\\n\\nThur...   \n",
       "00004.864220c5b6930b209cc287c361c99af1  Klez: The Virus That Won't Die\\n\\n \\n\\nAlready...   \n",
       "00005.bf27cdeaf0b8c4647ecd61b1d09da613  >  in adding cream to spaghetti carbonara, whi...   \n",
       "\n",
       "                                        CATEGORY  \n",
       "00001.7c53336b37003a9286aba55d2945844c         0  \n",
       "00002.9c4069e25e1ef370c078db7ee85ff9ac         0  \n",
       "00003.860e3c3cee1b42ead714c5c874fe25f7         0  \n",
       "00004.864220c5b6930b209cc287c361c99af1         0  \n",
       "00005.bf27cdeaf0b8c4647ecd61b1d09da613         0  "
      ]
     },
     "execution_count": 7,
     "metadata": {},
     "output_type": "execute_result"
    }
   ],
   "source": [
    "ham_email = df_from_directory(ham_1,ham_cat)\n",
    "ham_email = ham_email.append(df_from_directory(ham_2,ham_cat))\n",
    "ham_email.head()\n"
   ]
  },
  {
   "cell_type": "code",
   "execution_count": 8,
   "id": "99066e08",
   "metadata": {},
   "outputs": [
    {
     "data": {
      "text/plain": [
       "(3900, 2)"
      ]
     },
     "execution_count": 8,
     "metadata": {},
     "output_type": "execute_result"
    }
   ],
   "source": [
    "ham_email.shape"
   ]
  },
  {
   "cell_type": "code",
   "execution_count": 9,
   "id": "1759398a",
   "metadata": {},
   "outputs": [
    {
     "name": "stdout",
     "output_type": "stream",
     "text": [
      "Shape of entire data (5796, 2)\n"
     ]
    }
   ],
   "source": [
    "data = pd.concat([spam_email,ham_email])\n",
    "data.head()\n",
    "print(\"Shape of entire data\",data.shape)"
   ]
  },
  {
   "cell_type": "code",
   "execution_count": 10,
   "id": "efd08178",
   "metadata": {},
   "outputs": [
    {
     "data": {
      "text/html": [
       "<div>\n",
       "<style scoped>\n",
       "    .dataframe tbody tr th:only-of-type {\n",
       "        vertical-align: middle;\n",
       "    }\n",
       "\n",
       "    .dataframe tbody tr th {\n",
       "        vertical-align: top;\n",
       "    }\n",
       "\n",
       "    .dataframe thead th {\n",
       "        text-align: right;\n",
       "    }\n",
       "</style>\n",
       "<table border=\"1\" class=\"dataframe\">\n",
       "  <thead>\n",
       "    <tr style=\"text-align: right;\">\n",
       "      <th></th>\n",
       "      <th>MESSAGE</th>\n",
       "      <th>CATEGORY</th>\n",
       "    </tr>\n",
       "  </thead>\n",
       "  <tbody>\n",
       "    <tr>\n",
       "      <th>01396.61983fbe6ec43f55fd44e30fce24ffa6</th>\n",
       "      <td>http://news.bbc.co.uk/1/hi/england/2515127.stm...</td>\n",
       "      <td>0</td>\n",
       "    </tr>\n",
       "    <tr>\n",
       "      <th>01397.9f9ef4c2a8dc012d80f2ce2d3473d3b7</th>\n",
       "      <td>&gt; &gt;-- be careful when using this one.) Also, t...</td>\n",
       "      <td>0</td>\n",
       "    </tr>\n",
       "    <tr>\n",
       "      <th>01398.169b51731fe569f42169ae8f948ec676</th>\n",
       "      <td>&gt;&gt;&gt;&gt;&gt; \"SM\" == Skip Montanaro &lt;skip@pobox.com&gt; ...</td>\n",
       "      <td>0</td>\n",
       "    </tr>\n",
       "    <tr>\n",
       "      <th>01399.ca6b00b7b341bbde9a9ea3dd6a7bf896</th>\n",
       "      <td>So then, \"Mark Hammond\" &lt;mhammond@skippinet.co...</td>\n",
       "      <td>0</td>\n",
       "    </tr>\n",
       "    <tr>\n",
       "      <th>01400.f897f0931e461e7b2e964d28e927c35e</th>\n",
       "      <td>Hi there,\\n\\n\\n\\nNow this is probably of no us...</td>\n",
       "      <td>0</td>\n",
       "    </tr>\n",
       "  </tbody>\n",
       "</table>\n",
       "</div>"
      ],
      "text/plain": [
       "                                                                                  MESSAGE  \\\n",
       "01396.61983fbe6ec43f55fd44e30fce24ffa6  http://news.bbc.co.uk/1/hi/england/2515127.stm...   \n",
       "01397.9f9ef4c2a8dc012d80f2ce2d3473d3b7  > >-- be careful when using this one.) Also, t...   \n",
       "01398.169b51731fe569f42169ae8f948ec676  >>>>> \"SM\" == Skip Montanaro <skip@pobox.com> ...   \n",
       "01399.ca6b00b7b341bbde9a9ea3dd6a7bf896  So then, \"Mark Hammond\" <mhammond@skippinet.co...   \n",
       "01400.f897f0931e461e7b2e964d28e927c35e  Hi there,\\n\\n\\n\\nNow this is probably of no us...   \n",
       "\n",
       "                                        CATEGORY  \n",
       "01396.61983fbe6ec43f55fd44e30fce24ffa6         0  \n",
       "01397.9f9ef4c2a8dc012d80f2ce2d3473d3b7         0  \n",
       "01398.169b51731fe569f42169ae8f948ec676         0  \n",
       "01399.ca6b00b7b341bbde9a9ea3dd6a7bf896         0  \n",
       "01400.f897f0931e461e7b2e964d28e927c35e         0  "
      ]
     },
     "execution_count": 10,
     "metadata": {},
     "output_type": "execute_result"
    }
   ],
   "source": [
    "data.tail()"
   ]
  },
  {
   "cell_type": "markdown",
   "id": "5ec774ee",
   "metadata": {},
   "source": [
    "# Data Cleaning : Checking for Missing Values"
   ]
  },
  {
   "cell_type": "code",
   "execution_count": 11,
   "id": "20df5a0f",
   "metadata": {},
   "outputs": [
    {
     "data": {
      "text/plain": [
       "False"
      ]
     },
     "execution_count": 11,
     "metadata": {},
     "output_type": "execute_result"
    }
   ],
   "source": [
    "##Check if any message bodies are null\n",
    "\n",
    "data[\"MESSAGE\"].isnull().values.any() \n",
    "\n",
    "#[\"MESSAGE\"] is used to extract the message colums from the dataframe. It displays few of the rows from the dataframe\n",
    "# .isnull() gives us a value in terms of True or False if there is a null value or not in the dataframe.\n",
    "# null value in python refers to None type Data Atrribute\n",
    "#.isnull() also gives us the result in terms of few rows from the dataframe we are unable to see each and evry row and check\n",
    "#if it has a null value or not\n",
    "# to check taht we use .values attribute so as to get the true or false result as a numpy array \n",
    "#we then use .any() attribute to get an overall result for that array in terms of True or False to check for a null value\n",
    "\n",
    "\n",
    "# an empty email just cant be a none type value it can also consist of a string with zero length"
   ]
  },
  {
   "cell_type": "code",
   "execution_count": 12,
   "id": "2e7a3049",
   "metadata": {},
   "outputs": [
    {
     "data": {
      "text/plain": [
       "False"
      ]
     },
     "execution_count": 12,
     "metadata": {},
     "output_type": "execute_result"
    }
   ],
   "source": [
    "# Check for empty emails ( strings with length zero)\n",
    "#we convert dataframe into string and perform a logic test\n",
    "\n",
    "#data[\"MESSAGE\"].str.len() == 0  using this we get many rows with False or True values with some of them skipped\n",
    "#so instead we use .any attribute\n",
    "\n",
    "(data.MESSAGE.str.len() == 0).any()\n",
    "# it shows that there are messages with string with length zero but this does not give us an exact count of how many emails out of our\n",
    "#dataframe contain empty emails\n"
   ]
  },
  {
   "cell_type": "code",
   "execution_count": 13,
   "id": "7a6f1cea",
   "metadata": {},
   "outputs": [
    {
     "data": {
      "text/plain": [
       "0"
      ]
     },
     "execution_count": 13,
     "metadata": {},
     "output_type": "execute_result"
    }
   ],
   "source": [
    "(data.MESSAGE.str.len() == 0).sum()\n",
    "#this gives us the sum or an exact value of the emails which contain an empty body with zero string"
   ]
  },
  {
   "cell_type": "code",
   "execution_count": 14,
   "id": "70310295",
   "metadata": {},
   "outputs": [
    {
     "data": {
      "text/plain": [
       "0"
      ]
     },
     "execution_count": 14,
     "metadata": {},
     "output_type": "execute_result"
    }
   ],
   "source": [
    "#we can do the same for null values\n",
    "(data.MESSAGE.isnull().sum())"
   ]
  },
  {
   "cell_type": "markdown",
   "id": "dfdcc8c3",
   "metadata": {},
   "source": [
    "# To locate empty emails"
   ]
  },
  {
   "cell_type": "code",
   "execution_count": 15,
   "id": "97efe334",
   "metadata": {},
   "outputs": [
    {
     "data": {
      "text/plain": [
       "Index([], dtype='object')"
      ]
     },
     "execution_count": 15,
     "metadata": {},
     "output_type": "execute_result"
    }
   ],
   "source": [
    "data[data.MESSAGE.str.len() == 0].index\n",
    "#we use our dataframe along with our logic statement and use the index attribute to check for the index of the files which satisfy\n",
    "#our condition\n",
    "## the cmds file that we get into the list is a type of system file that we get into our systm after we unzip our data\n",
    "##hence this contributes to our empty string or empty email files\n",
    "##These files are in our datafram because of our generator function and specifically the walk function"
   ]
  },
  {
   "cell_type": "code",
   "execution_count": 16,
   "id": "c0789e7b",
   "metadata": {},
   "outputs": [],
   "source": [
    "## to get the location of these files in our dataframe\n",
    "#data.index.get_loc('cmds')"
   ]
  },
  {
   "cell_type": "markdown",
   "id": "5f55549f",
   "metadata": {},
   "source": [
    "# Removing system files\n"
   ]
  },
  {
   "cell_type": "code",
   "execution_count": 17,
   "id": "6864c994",
   "metadata": {},
   "outputs": [],
   "source": [
    "#data.index.get_loc('cmds')\n",
    "## as the above command is not working we will simply delete the files\n"
   ]
  },
  {
   "cell_type": "markdown",
   "id": "cacca0b9",
   "metadata": {},
   "source": [
    "# Adding Documentation Id to track Email in Dataset"
   ]
  },
  {
   "cell_type": "code",
   "execution_count": 18,
   "id": "4b18644c",
   "metadata": {},
   "outputs": [
    {
     "data": {
      "text/html": [
       "<div>\n",
       "<style scoped>\n",
       "    .dataframe tbody tr th:only-of-type {\n",
       "        vertical-align: middle;\n",
       "    }\n",
       "\n",
       "    .dataframe tbody tr th {\n",
       "        vertical-align: top;\n",
       "    }\n",
       "\n",
       "    .dataframe thead th {\n",
       "        text-align: right;\n",
       "    }\n",
       "</style>\n",
       "<table border=\"1\" class=\"dataframe\">\n",
       "  <thead>\n",
       "    <tr style=\"text-align: right;\">\n",
       "      <th></th>\n",
       "      <th>MESSAGE</th>\n",
       "      <th>CATEGORY</th>\n",
       "      <th>DOC_ID</th>\n",
       "    </tr>\n",
       "  </thead>\n",
       "  <tbody>\n",
       "    <tr>\n",
       "      <th>00001.7848dde101aa985090474a91ec93fcf0</th>\n",
       "      <td>&lt;!DOCTYPE HTML PUBLIC \"-//W3C//DTD HTML 4.0 Tr...</td>\n",
       "      <td>1</td>\n",
       "      <td>0</td>\n",
       "    </tr>\n",
       "    <tr>\n",
       "      <th>00002.d94f1b97e48ed3b553b3508d116e6a09</th>\n",
       "      <td>1) Fight The Risk of Cancer!\\n\\nhttp://www.adc...</td>\n",
       "      <td>1</td>\n",
       "      <td>1</td>\n",
       "    </tr>\n",
       "    <tr>\n",
       "      <th>00003.2ee33bc6eacdb11f38d052c44819ba6c</th>\n",
       "      <td>1) Fight The Risk of Cancer!\\n\\nhttp://www.adc...</td>\n",
       "      <td>1</td>\n",
       "      <td>2</td>\n",
       "    </tr>\n",
       "    <tr>\n",
       "      <th>00004.eac8de8d759b7e74154f142194282724</th>\n",
       "      <td>##############################################...</td>\n",
       "      <td>1</td>\n",
       "      <td>3</td>\n",
       "    </tr>\n",
       "    <tr>\n",
       "      <th>00005.57696a39d7d84318ce497886896bf90d</th>\n",
       "      <td>I thought you might like these:\\n\\n1) Slim Dow...</td>\n",
       "      <td>1</td>\n",
       "      <td>4</td>\n",
       "    </tr>\n",
       "    <tr>\n",
       "      <th>...</th>\n",
       "      <td>...</td>\n",
       "      <td>...</td>\n",
       "      <td>...</td>\n",
       "    </tr>\n",
       "    <tr>\n",
       "      <th>01396.61983fbe6ec43f55fd44e30fce24ffa6</th>\n",
       "      <td>http://news.bbc.co.uk/1/hi/england/2515127.stm...</td>\n",
       "      <td>0</td>\n",
       "      <td>5791</td>\n",
       "    </tr>\n",
       "    <tr>\n",
       "      <th>01397.9f9ef4c2a8dc012d80f2ce2d3473d3b7</th>\n",
       "      <td>&gt; &gt;-- be careful when using this one.) Also, t...</td>\n",
       "      <td>0</td>\n",
       "      <td>5792</td>\n",
       "    </tr>\n",
       "    <tr>\n",
       "      <th>01398.169b51731fe569f42169ae8f948ec676</th>\n",
       "      <td>&gt;&gt;&gt;&gt;&gt; \"SM\" == Skip Montanaro &lt;skip@pobox.com&gt; ...</td>\n",
       "      <td>0</td>\n",
       "      <td>5793</td>\n",
       "    </tr>\n",
       "    <tr>\n",
       "      <th>01399.ca6b00b7b341bbde9a9ea3dd6a7bf896</th>\n",
       "      <td>So then, \"Mark Hammond\" &lt;mhammond@skippinet.co...</td>\n",
       "      <td>0</td>\n",
       "      <td>5794</td>\n",
       "    </tr>\n",
       "    <tr>\n",
       "      <th>01400.f897f0931e461e7b2e964d28e927c35e</th>\n",
       "      <td>Hi there,\\n\\n\\n\\nNow this is probably of no us...</td>\n",
       "      <td>0</td>\n",
       "      <td>5795</td>\n",
       "    </tr>\n",
       "  </tbody>\n",
       "</table>\n",
       "<p>5796 rows × 3 columns</p>\n",
       "</div>"
      ],
      "text/plain": [
       "                                                                                  MESSAGE  \\\n",
       "00001.7848dde101aa985090474a91ec93fcf0  <!DOCTYPE HTML PUBLIC \"-//W3C//DTD HTML 4.0 Tr...   \n",
       "00002.d94f1b97e48ed3b553b3508d116e6a09  1) Fight The Risk of Cancer!\\n\\nhttp://www.adc...   \n",
       "00003.2ee33bc6eacdb11f38d052c44819ba6c  1) Fight The Risk of Cancer!\\n\\nhttp://www.adc...   \n",
       "00004.eac8de8d759b7e74154f142194282724  ##############################################...   \n",
       "00005.57696a39d7d84318ce497886896bf90d  I thought you might like these:\\n\\n1) Slim Dow...   \n",
       "...                                                                                   ...   \n",
       "01396.61983fbe6ec43f55fd44e30fce24ffa6  http://news.bbc.co.uk/1/hi/england/2515127.stm...   \n",
       "01397.9f9ef4c2a8dc012d80f2ce2d3473d3b7  > >-- be careful when using this one.) Also, t...   \n",
       "01398.169b51731fe569f42169ae8f948ec676  >>>>> \"SM\" == Skip Montanaro <skip@pobox.com> ...   \n",
       "01399.ca6b00b7b341bbde9a9ea3dd6a7bf896  So then, \"Mark Hammond\" <mhammond@skippinet.co...   \n",
       "01400.f897f0931e461e7b2e964d28e927c35e  Hi there,\\n\\n\\n\\nNow this is probably of no us...   \n",
       "\n",
       "                                        CATEGORY  DOC_ID  \n",
       "00001.7848dde101aa985090474a91ec93fcf0         1       0  \n",
       "00002.d94f1b97e48ed3b553b3508d116e6a09         1       1  \n",
       "00003.2ee33bc6eacdb11f38d052c44819ba6c         1       2  \n",
       "00004.eac8de8d759b7e74154f142194282724         1       3  \n",
       "00005.57696a39d7d84318ce497886896bf90d         1       4  \n",
       "...                                          ...     ...  \n",
       "01396.61983fbe6ec43f55fd44e30fce24ffa6         0    5791  \n",
       "01397.9f9ef4c2a8dc012d80f2ce2d3473d3b7         0    5792  \n",
       "01398.169b51731fe569f42169ae8f948ec676         0    5793  \n",
       "01399.ca6b00b7b341bbde9a9ea3dd6a7bf896         0    5794  \n",
       "01400.f897f0931e461e7b2e964d28e927c35e         0    5795  \n",
       "\n",
       "[5796 rows x 3 columns]"
      ]
     },
     "execution_count": 18,
     "metadata": {},
     "output_type": "execute_result"
    }
   ],
   "source": [
    "#we will replacing the document name to document ids from 0 to 5796 for tracking purpose\n",
    "document_id = range(0,len(data.index))\n",
    "data[\"DOC_ID\"] = document_id\n",
    "data"
   ]
  },
  {
   "cell_type": "code",
   "execution_count": 19,
   "id": "866a2f49",
   "metadata": {},
   "outputs": [
    {
     "data": {
      "text/html": [
       "<div>\n",
       "<style scoped>\n",
       "    .dataframe tbody tr th:only-of-type {\n",
       "        vertical-align: middle;\n",
       "    }\n",
       "\n",
       "    .dataframe tbody tr th {\n",
       "        vertical-align: top;\n",
       "    }\n",
       "\n",
       "    .dataframe thead th {\n",
       "        text-align: right;\n",
       "    }\n",
       "</style>\n",
       "<table border=\"1\" class=\"dataframe\">\n",
       "  <thead>\n",
       "    <tr style=\"text-align: right;\">\n",
       "      <th></th>\n",
       "      <th>MESSAGE</th>\n",
       "      <th>CATEGORY</th>\n",
       "      <th>DOC_ID</th>\n",
       "      <th>FILE_NAME</th>\n",
       "    </tr>\n",
       "  </thead>\n",
       "  <tbody>\n",
       "    <tr>\n",
       "      <th>00001.7848dde101aa985090474a91ec93fcf0</th>\n",
       "      <td>&lt;!DOCTYPE HTML PUBLIC \"-//W3C//DTD HTML 4.0 Tr...</td>\n",
       "      <td>1</td>\n",
       "      <td>0</td>\n",
       "      <td>00001.7848dde101aa985090474a91ec93fcf0</td>\n",
       "    </tr>\n",
       "    <tr>\n",
       "      <th>00002.d94f1b97e48ed3b553b3508d116e6a09</th>\n",
       "      <td>1) Fight The Risk of Cancer!\\n\\nhttp://www.adc...</td>\n",
       "      <td>1</td>\n",
       "      <td>1</td>\n",
       "      <td>00002.d94f1b97e48ed3b553b3508d116e6a09</td>\n",
       "    </tr>\n",
       "    <tr>\n",
       "      <th>00003.2ee33bc6eacdb11f38d052c44819ba6c</th>\n",
       "      <td>1) Fight The Risk of Cancer!\\n\\nhttp://www.adc...</td>\n",
       "      <td>1</td>\n",
       "      <td>2</td>\n",
       "      <td>00003.2ee33bc6eacdb11f38d052c44819ba6c</td>\n",
       "    </tr>\n",
       "    <tr>\n",
       "      <th>00004.eac8de8d759b7e74154f142194282724</th>\n",
       "      <td>##############################################...</td>\n",
       "      <td>1</td>\n",
       "      <td>3</td>\n",
       "      <td>00004.eac8de8d759b7e74154f142194282724</td>\n",
       "    </tr>\n",
       "    <tr>\n",
       "      <th>00005.57696a39d7d84318ce497886896bf90d</th>\n",
       "      <td>I thought you might like these:\\n\\n1) Slim Dow...</td>\n",
       "      <td>1</td>\n",
       "      <td>4</td>\n",
       "      <td>00005.57696a39d7d84318ce497886896bf90d</td>\n",
       "    </tr>\n",
       "  </tbody>\n",
       "</table>\n",
       "</div>"
      ],
      "text/plain": [
       "                                                                                  MESSAGE  \\\n",
       "00001.7848dde101aa985090474a91ec93fcf0  <!DOCTYPE HTML PUBLIC \"-//W3C//DTD HTML 4.0 Tr...   \n",
       "00002.d94f1b97e48ed3b553b3508d116e6a09  1) Fight The Risk of Cancer!\\n\\nhttp://www.adc...   \n",
       "00003.2ee33bc6eacdb11f38d052c44819ba6c  1) Fight The Risk of Cancer!\\n\\nhttp://www.adc...   \n",
       "00004.eac8de8d759b7e74154f142194282724  ##############################################...   \n",
       "00005.57696a39d7d84318ce497886896bf90d  I thought you might like these:\\n\\n1) Slim Dow...   \n",
       "\n",
       "                                        CATEGORY  DOC_ID  \\\n",
       "00001.7848dde101aa985090474a91ec93fcf0         1       0   \n",
       "00002.d94f1b97e48ed3b553b3508d116e6a09         1       1   \n",
       "00003.2ee33bc6eacdb11f38d052c44819ba6c         1       2   \n",
       "00004.eac8de8d759b7e74154f142194282724         1       3   \n",
       "00005.57696a39d7d84318ce497886896bf90d         1       4   \n",
       "\n",
       "                                                                     FILE_NAME  \n",
       "00001.7848dde101aa985090474a91ec93fcf0  00001.7848dde101aa985090474a91ec93fcf0  \n",
       "00002.d94f1b97e48ed3b553b3508d116e6a09  00002.d94f1b97e48ed3b553b3508d116e6a09  \n",
       "00003.2ee33bc6eacdb11f38d052c44819ba6c  00003.2ee33bc6eacdb11f38d052c44819ba6c  \n",
       "00004.eac8de8d759b7e74154f142194282724  00004.eac8de8d759b7e74154f142194282724  \n",
       "00005.57696a39d7d84318ce497886896bf90d  00005.57696a39d7d84318ce497886896bf90d  "
      ]
     },
     "execution_count": 19,
     "metadata": {},
     "output_type": "execute_result"
    }
   ],
   "source": [
    "data['FILE_NAME'] = data.index\n",
    "data.head()"
   ]
  },
  {
   "cell_type": "code",
   "execution_count": 20,
   "id": "1b9607a2",
   "metadata": {},
   "outputs": [
    {
     "data": {
      "text/html": [
       "<div>\n",
       "<style scoped>\n",
       "    .dataframe tbody tr th:only-of-type {\n",
       "        vertical-align: middle;\n",
       "    }\n",
       "\n",
       "    .dataframe tbody tr th {\n",
       "        vertical-align: top;\n",
       "    }\n",
       "\n",
       "    .dataframe thead th {\n",
       "        text-align: right;\n",
       "    }\n",
       "</style>\n",
       "<table border=\"1\" class=\"dataframe\">\n",
       "  <thead>\n",
       "    <tr style=\"text-align: right;\">\n",
       "      <th></th>\n",
       "      <th>MESSAGE</th>\n",
       "      <th>CATEGORY</th>\n",
       "      <th>FILE_NAME</th>\n",
       "    </tr>\n",
       "    <tr>\n",
       "      <th>DOC_ID</th>\n",
       "      <th></th>\n",
       "      <th></th>\n",
       "      <th></th>\n",
       "    </tr>\n",
       "  </thead>\n",
       "  <tbody>\n",
       "    <tr>\n",
       "      <th>0</th>\n",
       "      <td>&lt;!DOCTYPE HTML PUBLIC \"-//W3C//DTD HTML 4.0 Tr...</td>\n",
       "      <td>1</td>\n",
       "      <td>00001.7848dde101aa985090474a91ec93fcf0</td>\n",
       "    </tr>\n",
       "    <tr>\n",
       "      <th>1</th>\n",
       "      <td>1) Fight The Risk of Cancer!\\n\\nhttp://www.adc...</td>\n",
       "      <td>1</td>\n",
       "      <td>00002.d94f1b97e48ed3b553b3508d116e6a09</td>\n",
       "    </tr>\n",
       "    <tr>\n",
       "      <th>2</th>\n",
       "      <td>1) Fight The Risk of Cancer!\\n\\nhttp://www.adc...</td>\n",
       "      <td>1</td>\n",
       "      <td>00003.2ee33bc6eacdb11f38d052c44819ba6c</td>\n",
       "    </tr>\n",
       "    <tr>\n",
       "      <th>3</th>\n",
       "      <td>##############################################...</td>\n",
       "      <td>1</td>\n",
       "      <td>00004.eac8de8d759b7e74154f142194282724</td>\n",
       "    </tr>\n",
       "    <tr>\n",
       "      <th>4</th>\n",
       "      <td>I thought you might like these:\\n\\n1) Slim Dow...</td>\n",
       "      <td>1</td>\n",
       "      <td>00005.57696a39d7d84318ce497886896bf90d</td>\n",
       "    </tr>\n",
       "    <tr>\n",
       "      <th>...</th>\n",
       "      <td>...</td>\n",
       "      <td>...</td>\n",
       "      <td>...</td>\n",
       "    </tr>\n",
       "    <tr>\n",
       "      <th>5791</th>\n",
       "      <td>http://news.bbc.co.uk/1/hi/england/2515127.stm...</td>\n",
       "      <td>0</td>\n",
       "      <td>01396.61983fbe6ec43f55fd44e30fce24ffa6</td>\n",
       "    </tr>\n",
       "    <tr>\n",
       "      <th>5792</th>\n",
       "      <td>&gt; &gt;-- be careful when using this one.) Also, t...</td>\n",
       "      <td>0</td>\n",
       "      <td>01397.9f9ef4c2a8dc012d80f2ce2d3473d3b7</td>\n",
       "    </tr>\n",
       "    <tr>\n",
       "      <th>5793</th>\n",
       "      <td>&gt;&gt;&gt;&gt;&gt; \"SM\" == Skip Montanaro &lt;skip@pobox.com&gt; ...</td>\n",
       "      <td>0</td>\n",
       "      <td>01398.169b51731fe569f42169ae8f948ec676</td>\n",
       "    </tr>\n",
       "    <tr>\n",
       "      <th>5794</th>\n",
       "      <td>So then, \"Mark Hammond\" &lt;mhammond@skippinet.co...</td>\n",
       "      <td>0</td>\n",
       "      <td>01399.ca6b00b7b341bbde9a9ea3dd6a7bf896</td>\n",
       "    </tr>\n",
       "    <tr>\n",
       "      <th>5795</th>\n",
       "      <td>Hi there,\\n\\n\\n\\nNow this is probably of no us...</td>\n",
       "      <td>0</td>\n",
       "      <td>01400.f897f0931e461e7b2e964d28e927c35e</td>\n",
       "    </tr>\n",
       "  </tbody>\n",
       "</table>\n",
       "<p>5796 rows × 3 columns</p>\n",
       "</div>"
      ],
      "text/plain": [
       "                                                  MESSAGE  CATEGORY  \\\n",
       "DOC_ID                                                                \n",
       "0       <!DOCTYPE HTML PUBLIC \"-//W3C//DTD HTML 4.0 Tr...         1   \n",
       "1       1) Fight The Risk of Cancer!\\n\\nhttp://www.adc...         1   \n",
       "2       1) Fight The Risk of Cancer!\\n\\nhttp://www.adc...         1   \n",
       "3       ##############################################...         1   \n",
       "4       I thought you might like these:\\n\\n1) Slim Dow...         1   \n",
       "...                                                   ...       ...   \n",
       "5791    http://news.bbc.co.uk/1/hi/england/2515127.stm...         0   \n",
       "5792    > >-- be careful when using this one.) Also, t...         0   \n",
       "5793    >>>>> \"SM\" == Skip Montanaro <skip@pobox.com> ...         0   \n",
       "5794    So then, \"Mark Hammond\" <mhammond@skippinet.co...         0   \n",
       "5795    Hi there,\\n\\n\\n\\nNow this is probably of no us...         0   \n",
       "\n",
       "                                     FILE_NAME  \n",
       "DOC_ID                                          \n",
       "0       00001.7848dde101aa985090474a91ec93fcf0  \n",
       "1       00002.d94f1b97e48ed3b553b3508d116e6a09  \n",
       "2       00003.2ee33bc6eacdb11f38d052c44819ba6c  \n",
       "3       00004.eac8de8d759b7e74154f142194282724  \n",
       "4       00005.57696a39d7d84318ce497886896bf90d  \n",
       "...                                        ...  \n",
       "5791    01396.61983fbe6ec43f55fd44e30fce24ffa6  \n",
       "5792    01397.9f9ef4c2a8dc012d80f2ce2d3473d3b7  \n",
       "5793    01398.169b51731fe569f42169ae8f948ec676  \n",
       "5794    01399.ca6b00b7b341bbde9a9ea3dd6a7bf896  \n",
       "5795    01400.f897f0931e461e7b2e964d28e927c35e  \n",
       "\n",
       "[5796 rows x 3 columns]"
      ]
     },
     "execution_count": 20,
     "metadata": {},
     "output_type": "execute_result"
    }
   ],
   "source": [
    "data.set_index('DOC_ID', inplace=True)\n",
    "data"
   ]
  },
  {
   "cell_type": "markdown",
   "id": "7a737414",
   "metadata": {},
   "source": [
    "# Save to File using Pandas"
   ]
  },
  {
   "cell_type": "code",
   "execution_count": 21,
   "id": "ecf818d0",
   "metadata": {},
   "outputs": [],
   "source": [
    "data.to_json(Data_json)"
   ]
  },
  {
   "cell_type": "markdown",
   "id": "34079345",
   "metadata": {},
   "source": [
    "# Number of Spam Messages Visualised (Pie Chart)"
   ]
  },
  {
   "cell_type": "code",
   "execution_count": 22,
   "id": "8a00fe6a",
   "metadata": {},
   "outputs": [
    {
     "data": {
      "text/plain": [
       "0    3900\n",
       "1    1896\n",
       "Name: CATEGORY, dtype: int64"
      ]
     },
     "execution_count": 22,
     "metadata": {},
     "output_type": "execute_result"
    }
   ],
   "source": [
    "## To get a breakdown of how many messages of each category we have we will use the following\n",
    "data.CATEGORY.value_counts()"
   ]
  },
  {
   "cell_type": "code",
   "execution_count": 23,
   "id": "f0d47beb",
   "metadata": {},
   "outputs": [],
   "source": [
    "amount_of_spam = data.CATEGORY.value_counts()[1]\n",
    "amount_of_ham = data.CATEGORY.value_counts()[0]\n"
   ]
  },
  {
   "cell_type": "code",
   "execution_count": 24,
   "id": "c8b60851",
   "metadata": {},
   "outputs": [
    {
     "data": {
      "image/png": "[encoded data removed]",
      "text/plain": [
       "<Figure size 440x440 with 1 Axes>"
      ]
     },
     "metadata": {},
     "output_type": "display_data"
    }
   ],
   "source": [
    "##Pie chart\n",
    "category_names = [\"Spam\", \"Legit Emails/Ham \"]\n",
    "sizes = [amount_of_spam , amount_of_ham]\n",
    "plt.figure(figsize = (2,2),dpi=220)\n",
    "plt.pie(sizes,labels = category_names , textprops={'fontsize': 5}, autopct = \"%1.1f%%\", explode=[0,0.03])\n",
    "##Look for more documentation on Pie Chart\n",
    "plt.show()"
   ]
  },
  {
   "cell_type": "markdown",
   "id": "4e5d8eb2",
   "metadata": {},
   "source": [
    "# Number of Spam Messages Visualised (Donut Chart)( Practice )"
   ]
  },
  {
   "cell_type": "code",
   "execution_count": 25,
   "id": "c2dd6edc",
   "metadata": {},
   "outputs": [
    {
     "data": {
      "image/png": "[encoded data removed]",
      "text/plain": [
       "<Figure size 440x440 with 1 Axes>"
      ]
     },
     "metadata": {},
     "output_type": "display_data"
    }
   ],
   "source": [
    "category_names = [\"Spam\", \"Legit Emails/Ham \",\"Market\", \"Socialise\" ]\n",
    "sizes = [20,20,30,30]\n",
    "plt.figure(figsize = (2,2),dpi=220)\n",
    "plt.pie(sizes,labels = category_names , textprops={'fontsize': 5}, autopct = \"%1.1f%%\", pctdistance = 0.8,explode=[0.03,0.03,0.03,0.03])\n",
    "##Look for more documentation on Donut Chart\n",
    "circle = plt.Circle((0,0),radius = 0.6 , fc = \"white\")\n",
    "plt.gca().add_artist(circle)\n",
    "plt.show()"
   ]
  },
  {
   "cell_type": "markdown",
   "id": "cd040866",
   "metadata": {},
   "source": [
    "# NLP Introduction"
   ]
  },
  {
   "cell_type": "code",
   "execution_count": 26,
   "id": "f76337ac",
   "metadata": {},
   "outputs": [],
   "source": [
    "## Converting email body to lower case\n",
    "## Removing the stop words\n",
    "## Word stemming\n",
    "## Removing the punctuattion marks\n",
    "## Removing HTML Tags\n",
    "## Tokenising"
   ]
  },
  {
   "cell_type": "markdown",
   "id": "efb6aaa5",
   "metadata": {},
   "source": [
    "## Text Preprocessing"
   ]
  },
  {
   "cell_type": "code",
   "execution_count": 27,
   "id": "fe82d1f2",
   "metadata": {},
   "outputs": [],
   "source": [
    "## Converting words to lowercse in our emails\n",
    "## We can do this by using the following bit of code\n",
    "#msg = \" All Work And No play is Boring\"\n",
    "#msg.lower()\n",
    "# but for NlP we will be using a module  Natural Language Toolkit"
   ]
  },
  {
   "cell_type": "markdown",
   "id": "dea3158f",
   "metadata": {},
   "source": [
    "### Download the NLTK Resources (Tokenizer and Stopwords )"
   ]
  },
  {
   "cell_type": "code",
   "execution_count": 28,
   "id": "260580c5",
   "metadata": {},
   "outputs": [
    {
     "name": "stderr",
     "output_type": "stream",
     "text": [
      "[nltk_data] Downloading package punkt to\n",
      "[nltk_data]     C:\\Users\\LENOVO\\AppData\\Roaming\\nltk_data...\n",
      "[nltk_data]   Package punkt is already up-to-date!\n"
     ]
    },
    {
     "data": {
      "text/plain": [
       "True"
      ]
     },
     "execution_count": 28,
     "metadata": {},
     "output_type": "execute_result"
    }
   ],
   "source": [
    "nltk.download(\"punkt\")"
   ]
  },
  {
   "cell_type": "code",
   "execution_count": 29,
   "id": "db31a395",
   "metadata": {},
   "outputs": [
    {
     "name": "stderr",
     "output_type": "stream",
     "text": [
      "[nltk_data] Downloading package stopwords to\n",
      "[nltk_data]     C:\\Users\\LENOVO\\AppData\\Roaming\\nltk_data...\n",
      "[nltk_data]   Package stopwords is already up-to-date!\n"
     ]
    },
    {
     "data": {
      "text/plain": [
       "True"
      ]
     },
     "execution_count": 29,
     "metadata": {},
     "output_type": "execute_result"
    }
   ],
   "source": [
    "nltk.download(\"stopwords\")"
   ]
  },
  {
   "cell_type": "markdown",
   "id": "e6313e0d",
   "metadata": {},
   "source": [
    "### Tokenising"
   ]
  },
  {
   "cell_type": "code",
   "execution_count": 30,
   "id": "710874b0",
   "metadata": {},
   "outputs": [
    {
     "data": {
      "text/plain": [
       "['all', 'work', 'and', 'no', 'play', 'is', 'boring']"
      ]
     },
     "execution_count": 30,
     "metadata": {},
     "output_type": "execute_result"
    }
   ],
   "source": [
    "# Example for Tokenising\n",
    "msg = \" All Work And No play is Boring\"\n",
    "word_tokenize(msg)\n",
    "\n",
    "## Now to perform tokenising and turning the words into lowercase\n",
    "## we can do\n",
    "word_tokenize(msg.lower())"
   ]
  },
  {
   "cell_type": "markdown",
   "id": "f64de18b",
   "metadata": {},
   "source": [
    "### Removing Stop Words"
   ]
  },
  {
   "cell_type": "code",
   "execution_count": 31,
   "id": "731cfd5c",
   "metadata": {},
   "outputs": [
    {
     "name": "stdout",
     "output_type": "stream",
     "text": [
      "found it\n"
     ]
    }
   ],
   "source": [
    "# stopwords.words(\"english\")   ## To get a list of all the stopwords for the language english\n",
    "# type(stopwords.words(\"english\")) ## we get the type as list\n",
    "\n",
    "## but we will be using the stopwords as a set of words , hence we need to convert it into a set \n",
    "\n",
    "stop_words = set(stopwords.words(\"english\"))\n",
    "\n",
    "if \"not\" in stop_words:\n",
    "    print(\"found it\")\n"
   ]
  },
  {
   "cell_type": "code",
   "execution_count": 32,
   "id": "6a1b343a",
   "metadata": {},
   "outputs": [
    {
     "name": "stdout",
     "output_type": "stream",
     "text": [
      "Not in here\n"
     ]
    }
   ],
   "source": [
    "if \"hello\" not in stop_words:\n",
    "    print(\"Not in here\")"
   ]
  },
  {
   "cell_type": "code",
   "execution_count": 33,
   "id": "29028d1c",
   "metadata": {},
   "outputs": [
    {
     "name": "stdout",
     "output_type": "stream",
     "text": [
      "['work', 'play', 'makes', 'jack', 'dull', 'boy', '.', '.']\n"
     ]
    }
   ],
   "source": [
    "# An example code which tokenises , removes stop words and converts to lowercase\n",
    "msg = \" All Work And No play makes Jack a dull Boy . To Be or not to BE.\"\n",
    "msg.lower() # To convert the string into lowercase\n",
    "# word_tokenize(msg.lower()) # to tokenize the lowercase string\n",
    "words = word_tokenize(msg.lower()) ## to store it in a variable\n",
    "\n",
    "filtered_words=[]\n",
    "for word in words:\n",
    "    if word not in stop_words:\n",
    "        filtered_words.append(word)\n",
    "print(filtered_words)"
   ]
  },
  {
   "cell_type": "markdown",
   "id": "983e5907",
   "metadata": {},
   "source": [
    "### Word stems and Stemming"
   ]
  },
  {
   "cell_type": "code",
   "execution_count": 34,
   "id": "fbb5d968",
   "metadata": {},
   "outputs": [],
   "source": [
    "# Stemming Introduction\n",
    "#stemmer might not produce proper words ..we might not end up wth a real word\n",
    "## Purpose of Stemmer ?"
   ]
  },
  {
   "cell_type": "code",
   "execution_count": 35,
   "id": "7ba474bd",
   "metadata": {},
   "outputs": [
    {
     "name": "stdout",
     "output_type": "stream",
     "text": [
      "['work', 'play', 'make', 'jack', 'dull', 'boy', '.', 'be.', '?', '?', '?', '?', '#', '#', 'goe', 'fish', 'beacaus', 'like', 'eat', 'fish', 'crab']\n"
     ]
    }
   ],
   "source": [
    "# An example code which tokenises , removes stop words and converts to lowercase and stemming the words in it\n",
    "msg = \" All Work And No play makes Jack a dull Boy . To Be or not to BE.????##\\\n",
    "        TheN he goes to fishing beacause he like eating fish and crabs\"\n",
    "msg.lower() # To convert the string into lowercase\n",
    "# word_tokenize(msg.lower()) # to tokenize the lowercase string\n",
    "words = word_tokenize(msg.lower()) ## to store it in a variable\n",
    "\n",
    "stemmer = PorterStemmer()  \n",
    "\n",
    "filtered_words=[]\n",
    "for word in words:\n",
    "    if word not in stop_words:\n",
    "        stemmed_word = stemmer.stem(word)\n",
    "        filtered_words.append(stemmed_word)\n",
    "print(filtered_words)"
   ]
  },
  {
   "cell_type": "code",
   "execution_count": 36,
   "id": "3467948a",
   "metadata": {},
   "outputs": [],
   "source": [
    "## PorterStemmer is specifically a stemmer for English\n",
    "##There are variety of stemmer functions but the one widely used for various Languages is SnowballStemmer"
   ]
  },
  {
   "cell_type": "markdown",
   "id": "12d8a8d6",
   "metadata": {},
   "source": [
    "### Removing Punctuations"
   ]
  },
  {
   "cell_type": "code",
   "execution_count": 37,
   "id": "d62ac344",
   "metadata": {},
   "outputs": [
    {
     "name": "stdout",
     "output_type": "stream",
     "text": [
      "There is a punctuation mark\n",
      "['work', 'play', 'make', 'jack', 'dull', 'boy', 'goe', 'fish', 'beacaus', 'like', 'eat', 'fish', 'crab']\n"
     ]
    }
   ],
   "source": [
    "#incase of a string we use the .isalpha method which checks if the given string is a character or not.\n",
    "# If it is a character it gives us True and If it is a punction it gives us FALSE.\n",
    "#This logic is used for removing the punctuations.\n",
    "\n",
    "#example:\n",
    "string = \"I am a Hero.Are you a villain ?\"\n",
    "string.isalpha()\n",
    "if string.isalpha() is False:\n",
    "    print(\"There is a punctuation mark\")\n",
    "    \n",
    "#### Example ####\n",
    "# An example code which tokenises , removes stop words and converts to lowercase and stemming the words in it , and to remove the\n",
    "#punctuation marks as well\n",
    "msg = \" All Work And No play makes Jack a dull Boy . To Be or not to BE.????##\\\n",
    "        TheN he goes to fishing beacause he like eating fish and crabs\"\n",
    "msg.lower() # To convert the string into lowercase\n",
    "# word_tokenize(msg.lower()) # to tokenize the lowercase string\n",
    "words = word_tokenize(msg.lower()) ## to store it in a variable\n",
    "\n",
    "stemmer = PorterStemmer()  \n",
    "\n",
    "filtered_words=[]\n",
    "for word in words:\n",
    "    if word not in stop_words:\n",
    "        stemmed_word = stemmer.stem(word)\n",
    "        filtered_words.append(stemmed_word)\n",
    "        punc = stemmed_word.isalpha()\n",
    "        if punc is False:\n",
    "            filtered_words.remove(stemmed_word)\n",
    "print(filtered_words)\n",
    "\n",
    "## or ###\n"
   ]
  },
  {
   "cell_type": "code",
   "execution_count": 38,
   "id": "e3508bb3",
   "metadata": {},
   "outputs": [
    {
     "name": "stdout",
     "output_type": "stream",
     "text": [
      "['work', 'play', 'make', 'jack', 'dull', 'boy', 'goe', 'fish', 'beacaus', 'like', 'eat', 'fish', 'crab']\n"
     ]
    }
   ],
   "source": [
    "msg = \" All Work And No play makes Jack a dull Boy . To Be or not to BE.????##\\\n",
    "        TheN he goes to fishing beacause he like eating fish and crabs\"\n",
    "msg.lower() # To convert the string into lowercase\n",
    "# word_tokenize(msg.lower()) # to tokenize the lowercase string\n",
    "words = word_tokenize(msg.lower()) ## to store it in a variable\n",
    "\n",
    "stemmer = PorterStemmer()  \n",
    "\n",
    "filtered_words=[]\n",
    "for word in words:\n",
    "    if word not in stop_words and word.isalpha():\n",
    "        stemmed_word = stemmer.stem(word)\n",
    "        filtered_words.append(stemmed_word)\n",
    "        punc = stemmed_word.isalpha()\n",
    "        if punc is False:\n",
    "            filtered_words.remove(stemmed_word)\n",
    "print(filtered_words)"
   ]
  },
  {
   "cell_type": "markdown",
   "id": "15efe75b",
   "metadata": {},
   "source": [
    "### Removing HTML Tags from Emails"
   ]
  },
  {
   "cell_type": "code",
   "execution_count": 39,
   "id": "8737520e",
   "metadata": {},
   "outputs": [
    {
     "data": {
      "text/plain": [
       "\"1) Fight The Risk of Cancer!\\n\\nhttp://www.adclick.ws/p.cfm?o=315&s=pk007\\n\\n\\n\\n2) Slim Down - Guaranteed to lose 10-12 lbs in 30 days\\n\\nhttp://www.adclick.ws/p.cfm?o=249&s=pk007\\n\\n\\n\\n3) Get the Child Support You Deserve - Free Legal Advice\\n\\nhttp://www.adclick.ws/p.cfm?o=245&s=pk002\\n\\n\\n\\n4) Join the Web's Fastest Growing Singles Community\\n\\nhttp://www.adclick.ws/p.cfm?o=259&s=pk007\\n\\n\\n\\n5) Start Your Private Photo Album Online!\\n\\nhttp://www.adclick.ws/p.cfm?o=283&s=pk007\\n\\n\\n\\nHave a Wonderful Day,\\n\\nOffer Manager\\n\\nPrizeMama\\n\\n\\n\\n\\n\\n\\n\\n\\n\\n\\n\\n\\n\\n\\n\\n\\n\\n\\n\\n\\n\\n\\n\\n\\n\\n\\n\\nIf you wish to leave this list please use the link below.\\n\\nhttp://www.qves.com/trim/?zzzz@spamassassin.taint.org%7C17%7C308417\\n\\n\\n\""
      ]
     },
     "execution_count": 39,
     "metadata": {},
     "output_type": "execute_result"
    }
   ],
   "source": [
    "#to access a mail from our dataset we can use\n",
    "data.at[2,\"MESSAGE\"]  #where 2 is the doc id or index and essage is the column in which our email body is.\n",
    "#HTML TAGS are similar to punctuation marks , they do not provide us information when it comes to NAive BAYES \n",
    "# and bag of words approach\n"
   ]
  },
  {
   "cell_type": "code",
   "execution_count": 40,
   "id": "8608edc9",
   "metadata": {
    "scrolled": true
   },
   "outputs": [],
   "source": [
    "#This is used to beautify the email body in order to see it as in a text editor like atom\n",
    "#soup =  BeautifulSoup(data.at[2,\"MESSAGE\"],\"html.parser\")  ##html parser is a built in parser ..what is a parser?\n",
    "#print(soup.prettify())\n"
   ]
  },
  {
   "cell_type": "code",
   "execution_count": 41,
   "id": "4be61918",
   "metadata": {},
   "outputs": [],
   "source": [
    "#soup.get_text()  ### This removes all the HTML tag from the email body. \n",
    "## we can verify by looking into the mail body and see that there are no <b> tags"
   ]
  },
  {
   "cell_type": "markdown",
   "id": "8eb0d260",
   "metadata": {},
   "source": [
    "## Function for Email Processing"
   ]
  },
  {
   "cell_type": "code",
   "execution_count": 42,
   "id": "988c9d7e",
   "metadata": {},
   "outputs": [],
   "source": [
    "def clean_message(message, stemmer = PorterStemmer(), \n",
    "stop_words = set(stopwords.words(\"english\"))):\n",
    "    \n",
    "    #To remove HTML Tags\n",
    "    soup =  BeautifulSoup(message,\"html.parser\")\n",
    "    clean_text = soup.get_text()  \n",
    "    \n",
    "    ##for tokenising and converting to lowercase\n",
    "    words = word_tokenize(clean_text.lower())\n",
    "    filtered_words = []\n",
    "    \n",
    "    #for stemming and removing the punctuations\n",
    "    for word in words:\n",
    "        if word not in stop_words and word.isalpha():\n",
    "            stemmed_word = stemmer.stem(word)\n",
    "            filtered_words.append(stemmed_word)\n",
    "            punc = stemmed_word.isalpha()\n",
    "            if punc is False:\n",
    "                filtered_words.remove(stemmed_word)     \n",
    "    return filtered_words"
   ]
  },
  {
   "cell_type": "code",
   "execution_count": 43,
   "id": "dd08c07e",
   "metadata": {
    "scrolled": true
   },
   "outputs": [
    {
     "data": {
      "text/plain": [
       "['fight',\n",
       " 'risk',\n",
       " 'cancer',\n",
       " 'http',\n",
       " 'slim',\n",
       " 'guarante',\n",
       " 'lose',\n",
       " 'lb',\n",
       " 'day',\n",
       " 'http',\n",
       " 'get',\n",
       " 'child',\n",
       " 'support',\n",
       " 'deserv',\n",
       " 'free',\n",
       " 'legal',\n",
       " 'advic',\n",
       " 'http',\n",
       " 'join',\n",
       " 'web',\n",
       " 'fastest',\n",
       " 'grow',\n",
       " 'singl',\n",
       " 'commun',\n",
       " 'http',\n",
       " 'start',\n",
       " 'privat',\n",
       " 'photo',\n",
       " 'album',\n",
       " 'onlin',\n",
       " 'http',\n",
       " 'wonder',\n",
       " 'day',\n",
       " 'offer',\n",
       " 'manag',\n",
       " 'prizemama',\n",
       " 'wish',\n",
       " 'leav',\n",
       " 'list',\n",
       " 'pleas',\n",
       " 'use',\n",
       " 'link',\n",
       " 'http',\n",
       " 'zzzz']"
      ]
     },
     "execution_count": 43,
     "metadata": {},
     "output_type": "execute_result"
    }
   ],
   "source": [
    "clean_message(data.at[2,\"MESSAGE\"])"
   ]
  },
  {
   "cell_type": "markdown",
   "id": "a1126252",
   "metadata": {},
   "source": [
    "# Apply Cleaning and Tokenisation to all E-mails"
   ]
  },
  {
   "cell_type": "markdown",
   "id": "3c179815",
   "metadata": {},
   "source": [
    "### Slicing dataframes and series and Creating Subsets"
   ]
  },
  {
   "cell_type": "code",
   "execution_count": 44,
   "id": "76f17a96",
   "metadata": {},
   "outputs": [
    {
     "data": {
      "text/plain": [
       "\"##################################################\\n\\n#                                                #\\n\\n#                 Adult Club                     #\\n\\n#           Offers FREE Membership               #\\n\\n#                                                #\\n\\n##################################################\\n\\n\\n\\n>>>>>  INSTANT ACCESS TO ALL SITES NOW\\n\\n>>>>>  Your User Name And Password is.\\n\\n>>>>>  User Name: zzzz@spamassassin.taint.org\\n\\n>>>>>  Password: 760382\\n\\n\\n\\n5 of the Best Adult Sites on the Internet for FREE!\\n\\n---------------------------------------\\n\\nNEWS 08/18/02\\n\\nWith just over 2.9 Million Members that signed up for FREE, Last month there were 721,184 New\\n\\nMembers. Are you one of them yet???\\n\\n---------------------------------------\\n\\nOur Membership FAQ\\n\\n\\n\\nQ. Why are you offering free access to 5 adult membership sites for free?\\n\\nA. I have advertisers that pay me for ad space so you don't have to pay for membership.\\n\\n\\n\\nQ. Is it true my membership is for life?\\n\\nA. Absolutely you'll never have to pay a cent the advertisers do.\\n\\n\\n\\nQ. Can I give my account to my friends and family?\\n\\nA. Yes, as long they are over the age of 18.\\n\\n\\n\\nQ. Do I have to sign up for all 5 membership sites?\\n\\nA. No just one to get access to all of them.\\n\\n\\n\\nQ. How do I get started?\\n\\nA. Click on one of the following links below to become a member.\\n\\n\\n\\n- These are multi million dollar operations with policies and rules.\\n\\n- Fill in the required info and they won't charge you for the Free pass!\\n\\n- If you don't believe us, just read their terms and conditions.\\n\\n\\n\\n---------------------------\\n\\n\\n\\n# 5. > Adults Farm\\n\\nhttp://80.71.66.8/farm/?aid=760382\\n\\nGirls and Animals Getting Freaky....FREE Lifetime Membership!!\\n\\n\\n\\n# 4. > Sexy Celebes\\n\\nhttp://80.71.66.8/celebst/?aid=760382\\n\\nThousands Of XXX Celebes doing it...FREE Lifetime Membership!!\\n\\n\\n\\n# 3. > Play House Porn\\n\\nhttp://80.71.66.8/mega/?aid=760382\\n\\nLive Feeds From 60 Sites And Web Cams...FREE Lifetime Membership!!\\n\\n\\n\\n# 2. > Asian Sex Fantasies\\n\\nhttp://80.71.66.8/asian/?aid=760382\\n\\nJapanese Schoolgirls, Live Sex Shows ...FREE Lifetime Membership!!\\n\\n\\n\\n# 1. > Lesbian Lace\\n\\nhttp://80.71.66.8/lesbian/?aid=760382\\n\\nGirls and Girls Getting Freaky! ...FREE Lifetime Membership!!\\n\\n\\n\\n--------------------------\\n\\n\\n\\nJennifer Simpson, Miami, FL\\n\\nYour FREE lifetime membership has entertained my boyffriend and I for\\n\\nthe last two years!  Your Adult Sites are the best on the net!\\n\\n\\n\\nJoe Morgan Manhattan, NY\\n\\nYour live sex shows and live sex cams are unbelievable. The best part\\n\\nabout your porn sites, is that they're absolutely FREE!\\n\\n\\n\\n--------------------------\\n\\n\\n\\n\\n\\n\\n\\n\\n\\n\\n\\n\\n\\n\\n\\n\\n\\n\\n\\nRemoval Instructions:\\n\\n\\n\\nYou have received this advertisement because you have opted in to receive free adult internet\\n\\noffers and specials through our affiliated websites. If you do not wish to receive further emails\\n\\nor have received the email in error you may opt-out of our database here\\n\\nhttp://80.71.66.8/optout/ . Please allow 24 hours for removal.\\n\\n\\n\\nvonolmosatkirekpups\\n\\n\\n\""
      ]
     },
     "execution_count": 44,
     "metadata": {},
     "output_type": "execute_result"
    }
   ],
   "source": [
    "data.iat[3,0] ## can accerss data by location here 2 is the position or index and 2 is the 2nd column"
   ]
  },
  {
   "cell_type": "code",
   "execution_count": 45,
   "id": "c2221795",
   "metadata": {},
   "outputs": [
    {
     "data": {
      "text/plain": [
       "DOC_ID\n",
       "5    A POWERHOUSE GIFTING PROGRAM You Don't Want To...\n",
       "6    Help wanted.  We are a 14 year old fortune 500...\n",
       "Name: MESSAGE, dtype: object"
      ]
     },
     "execution_count": 45,
     "metadata": {},
     "output_type": "execute_result"
    }
   ],
   "source": [
    "data.iloc[0:5] ## used to get a subset of data from a dataframe\n",
    "## it works on series as well as dataframe\n",
    "data.MESSAGE.iloc[5:7] ## works well on series as well as data frames , gives a subset with a specifes range of indices"
   ]
  },
  {
   "cell_type": "code",
   "execution_count": 46,
   "id": "8a290cc0",
   "metadata": {},
   "outputs": [
    {
     "data": {
      "text/plain": [
       "DOC_ID\n",
       "5    [powerhous, gift, program, want, miss, get, fo...\n",
       "6    [help, want, year, old, fortun, compani, grow,...\n",
       "Name: MESSAGE, dtype: object"
      ]
     },
     "execution_count": 46,
     "metadata": {},
     "output_type": "execute_result"
    }
   ],
   "source": [
    "datalist = data.MESSAGE.iloc[5:7] ### this will give us a series and stored in a variable\n",
    "nested_list = datalist.apply(clean_message) \n",
    "##this will give us a series as well in the form of a list , the list will contain all the texts when the function of clean_message\n",
    "## is apllied on it\n",
    "\n",
    "nested_list\n"
   ]
  },
  {
   "cell_type": "code",
   "execution_count": 47,
   "id": "a9a05d16",
   "metadata": {},
   "outputs": [
    {
     "name": "stdout",
     "output_type": "stream",
     "text": [
      "208\n"
     ]
    }
   ],
   "source": [
    "## we will perform the same for the subset and instead of getting a series of list we will try to get a single list of words \n",
    "##containing all the pre-procesed words of the subset of emails in a single list\n",
    "## using for loops\n",
    "flat_list =[] ## empty list which will contain all the  pre-processed words from the subset of emails\n",
    "for sublist in nested_list :\n",
    "    for items in sublist:\n",
    "        flat_list.append(items)\n",
    "        \n",
    "print(len(flat_list))\n",
    "#print(flat_list)\n"
   ]
  },
  {
   "cell_type": "code",
   "execution_count": 48,
   "id": "8af1ac73",
   "metadata": {},
   "outputs": [
    {
     "name": "stdout",
     "output_type": "stream",
     "text": [
      "208\n"
     ]
    }
   ],
   "source": [
    "## using list comprehension\n",
    "flat_list = [items for sublist in nested_list for items in sublist]\n",
    "print(len(flat_list))\n",
    "#print(flat_list)"
   ]
  },
  {
   "cell_type": "code",
   "execution_count": 49,
   "id": "177b3453",
   "metadata": {},
   "outputs": [
    {
     "name": "stderr",
     "output_type": "stream",
     "text": [
      "C:\\Users\\LENOVO\\anaconda3\\lib\\site-packages\\bs4\\__init__.py:435: MarkupResemblesLocatorWarning: The input looks more like a filename than markup. You may want to open this file and pass the filehandle into Beautiful Soup.\n",
      "  warnings.warn(\n",
      "C:\\Users\\LENOVO\\anaconda3\\lib\\site-packages\\bs4\\__init__.py:404: MarkupResemblesLocatorWarning: The input looks more like a URL than markup. You may want to use an HTTP client like requests to get the document behind the URL, and feed that document to Beautiful Soup.\n",
      "  warnings.warn(\n"
     ]
    }
   ],
   "source": [
    "#%%time ## time gives us an idea about the computational time taken for a code to run\n",
    "## to use apply() function on all the messages in the dataframe\n",
    "nested_list = data.MESSAGE.apply(clean_message) \n",
    "## the warning for BEAUTIFULSOUP can be ignored\n"
   ]
  },
  {
   "cell_type": "code",
   "execution_count": 50,
   "id": "468a5111",
   "metadata": {},
   "outputs": [
    {
     "data": {
      "text/plain": [
       "DOC_ID\n",
       "0    [save, life, insur, spend, life, quot, save, g...\n",
       "1    [fight, risk, cancer, http, slim, guarante, lo...\n",
       "2    [fight, risk, cancer, http, slim, guarante, lo...\n",
       "3    [adult, club, offer, free, membership, instant...\n",
       "4    [thought, might, like, slim, guarante, lose, l...\n",
       "Name: MESSAGE, dtype: object"
      ]
     },
     "execution_count": 50,
     "metadata": {},
     "output_type": "execute_result"
    }
   ],
   "source": [
    "nested_list.head()"
   ]
  },
  {
   "cell_type": "code",
   "execution_count": 51,
   "id": "b3753983",
   "metadata": {},
   "outputs": [
    {
     "data": {
      "text/plain": [
       "DOC_ID\n",
       "5791    [http, bizarr, collect, stuf, anim, could, fet...\n",
       "5792    [care, use, one, also, realli, cute, thing, ja...\n",
       "5793    [sm, skip, montanaro, write, jeremi, put, anot...\n",
       "5794    [mark, hammond, like, given, zodb, sound, attr...\n",
       "5795    [hi, probabl, use, whatsoev, also, problem, re...\n",
       "Name: MESSAGE, dtype: object"
      ]
     },
     "execution_count": 51,
     "metadata": {},
     "output_type": "execute_result"
    }
   ],
   "source": [
    "nested_list.tail()"
   ]
  },
  {
   "cell_type": "markdown",
   "id": "413508ce",
   "metadata": {},
   "source": [
    "#### Creating a subset of a dataframe based on a condition (logic)"
   ]
  },
  {
   "cell_type": "code",
   "execution_count": 52,
   "id": "b813036e",
   "metadata": {},
   "outputs": [],
   "source": [
    "##challenge : Creat two variables (doc_id_spam) and (doc_id_ham) which\n",
    "## hold on to the indices wfor the spam and non spam emails respectively"
   ]
  },
  {
   "cell_type": "code",
   "execution_count": 53,
   "id": "a6195542",
   "metadata": {},
   "outputs": [
    {
     "data": {
      "text/plain": [
       "Int64Index([   0,    1,    2,    3,    4,    5,    6,    7,    8,    9,\n",
       "            ...\n",
       "            1886, 1887, 1888, 1889, 1890, 1891, 1892, 1893, 1894, 1895],\n",
       "           dtype='int64', name='DOC_ID', length=1896)"
      ]
     },
     "execution_count": 53,
     "metadata": {},
     "output_type": "execute_result"
    }
   ],
   "source": [
    "doc_id_spam = data[data.CATEGORY == 1].index ## the condition mentioned here is include only those messages with 1 category\n",
    "## only if this condition is true we will be getting a subset\n",
    "doc_id_spam"
   ]
  },
  {
   "cell_type": "code",
   "execution_count": 54,
   "id": "a15a0620",
   "metadata": {},
   "outputs": [
    {
     "data": {
      "text/plain": [
       "Int64Index([1896, 1897, 1898, 1899, 1900, 1901, 1902, 1903, 1904, 1905,\n",
       "            ...\n",
       "            5786, 5787, 5788, 5789, 5790, 5791, 5792, 5793, 5794, 5795],\n",
       "           dtype='int64', name='DOC_ID', length=3900)"
      ]
     },
     "execution_count": 54,
     "metadata": {},
     "output_type": "execute_result"
    }
   ],
   "source": [
    "doc_id_ham = data[data.CATEGORY == 0].index\n",
    "doc_id_ham\n",
    "##.index will give us the indices of those messages which satisfy the condition"
   ]
  },
  {
   "cell_type": "code",
   "execution_count": 55,
   "id": "ec8d188f",
   "metadata": {},
   "outputs": [
    {
     "data": {
      "text/plain": [
       "DOC_ID\n",
       "0       [save, life, insur, spend, life, quot, save, g...\n",
       "1       [fight, risk, cancer, http, slim, guarante, lo...\n",
       "2       [fight, risk, cancer, http, slim, guarante, lo...\n",
       "3       [adult, club, offer, free, membership, instant...\n",
       "4       [thought, might, like, slim, guarante, lose, l...\n",
       "                              ...                        \n",
       "1891    [want, boss, train, home, studi, thousand, peo...\n",
       "1892    [messag, mime, format, prefer, doctor, order, ...\n",
       "1893    [dear, subscrib, could, show, way, get, visito...\n",
       "1894    [custom, appreci, sale, express, appreci, loya...\n",
       "1895    [attn, strictli, confidenti, pleas, introduc, ...\n",
       "Name: MESSAGE, Length: 1896, dtype: object"
      ]
     },
     "execution_count": 55,
     "metadata": {},
     "output_type": "execute_result"
    }
   ],
   "source": [
    "## creating two different subset containing email bodies of spam and ham emails seperatly\n",
    "# nested_list = data.MESSAGE.apply(clean_message) \n",
    "nested_list_spam = nested_list.loc[doc_id_spam]\n",
    "##  nestedlist variable contains our apply () function\n",
    "## .loc method will require a range of indices\n",
    "## doc_id_spam contains a list of all the indices\n",
    "\n",
    "## hence we get a series of lists with all the preprocessed words from each spam email.\n",
    "\n",
    "nested_list_spam\n",
    "#type(nested_list_spam)\n",
    "\n"
   ]
  },
  {
   "cell_type": "code",
   "execution_count": 56,
   "id": "2a606478",
   "metadata": {},
   "outputs": [
    {
     "data": {
      "text/plain": [
       "DOC_ID\n",
       "1896    [date, wed, aug, chri, garrigu, ca, reproduc, ...\n",
       "1897    [martin, post, tasso, papadopoulo, greek, scul...\n",
       "1898    [man, threaten, explos, moscow, thursday, augu...\n",
       "1899    [klez, viru, wo, die, alreadi, prolif, viru, e...\n",
       "1900    [ad, cream, spaghetti, carbonara, effect, past...\n",
       "                              ...                        \n",
       "5791    [http, bizarr, collect, stuf, anim, could, fet...\n",
       "5792    [care, use, one, also, realli, cute, thing, ja...\n",
       "5793    [sm, skip, montanaro, write, jeremi, put, anot...\n",
       "5794    [mark, hammond, like, given, zodb, sound, attr...\n",
       "5795    [hi, probabl, use, whatsoev, also, problem, re...\n",
       "Name: MESSAGE, Length: 3900, dtype: object"
      ]
     },
     "execution_count": 56,
     "metadata": {},
     "output_type": "execute_result"
    }
   ],
   "source": [
    "## for ham emails\n",
    "nested_list_ham = nested_list.loc[doc_id_ham]\n",
    "nested_list_ham"
   ]
  },
  {
   "cell_type": "code",
   "execution_count": 57,
   "id": "9d2c2b4d",
   "metadata": {},
   "outputs": [
    {
     "data": {
      "text/plain": [
       "list"
      ]
     },
     "execution_count": 57,
     "metadata": {},
     "output_type": "execute_result"
    }
   ],
   "source": [
    "## Challenge\n",
    "## for Spam emails\n",
    "flat_list_spam=[items for subitems in nested_list_spam for items in subitems]\n",
    "len(flat_list_spam)\n",
    "type(flat_list_spam)"
   ]
  },
  {
   "cell_type": "code",
   "execution_count": 58,
   "id": "f69eb876",
   "metadata": {},
   "outputs": [
    {
     "data": {
      "text/plain": [
       "http      3097\n",
       "email     3090\n",
       "free      2585\n",
       "click     2058\n",
       "receiv    1989\n",
       "list      1971\n",
       "get       1914\n",
       "pleas     1852\n",
       "busi      1792\n",
       "order     1746\n",
       "dtype: int64"
      ]
     },
     "execution_count": 58,
     "metadata": {},
     "output_type": "execute_result"
    }
   ],
   "source": [
    "## to print out the top 10 most commonly used words in the list flat_list_spam\n",
    "spammy_words = pd.Series(flat_list_spam).value_counts()\n",
    "\n",
    "## pd.Series creates a series from a list\n",
    "\n",
    "## value_counts Return a Series containing counts of unique values.\n",
    "## The resulting object will be in descending order so that the first element is the most frequently-occurring element. \n",
    "#Excludes NA values by default.\n",
    "\n",
    "spammy_words[:10]"
   ]
  },
  {
   "cell_type": "code",
   "execution_count": 59,
   "id": "604631d0",
   "metadata": {},
   "outputs": [
    {
     "data": {
      "text/plain": [
       "(13241,)"
      ]
     },
     "execution_count": 59,
     "metadata": {},
     "output_type": "execute_result"
    }
   ],
   "source": [
    "spammy_words.shape"
   ]
  },
  {
   "cell_type": "code",
   "execution_count": 60,
   "id": "f69d36bb",
   "metadata": {},
   "outputs": [
    {
     "data": {
      "text/plain": [
       "442046"
      ]
     },
     "execution_count": 60,
     "metadata": {},
     "output_type": "execute_result"
    }
   ],
   "source": [
    "## Challenge\n",
    "## for Spam emails\n",
    "flat_list_ham=[items for subitems in nested_list_ham for items in subitems]\n",
    "len(flat_list_ham)"
   ]
  },
  {
   "cell_type": "code",
   "execution_count": 61,
   "id": "50cf1c4b",
   "metadata": {},
   "outputs": [
    {
     "data": {
      "text/plain": [
       "http      7563\n",
       "use       3633\n",
       "list      2880\n",
       "one       2373\n",
       "get       2286\n",
       "mail      2255\n",
       "would     2003\n",
       "like      1931\n",
       "messag    1849\n",
       "work      1800\n",
       "dtype: int64"
      ]
     },
     "execution_count": 61,
     "metadata": {},
     "output_type": "execute_result"
    }
   ],
   "source": [
    "## to print out the top 10 most commonly used words in the list flat_list_ham\n",
    "ham_words = pd.Series(flat_list_ham).value_counts()\n",
    "\n",
    "## pd.Series creates a series from a list\n",
    "\n",
    "## value_counts Return a Series containing counts of unique values.\n",
    "## The resulting object will be in descending order so that the first element is the most frequently-occurring element. \n",
    "#Excludes NA values by default.\n",
    "\n",
    "#ham_words.shape\n",
    "\n",
    "ham_words[:10]"
   ]
  },
  {
   "cell_type": "markdown",
   "id": "a6cce729",
   "metadata": {},
   "source": [
    " ## Genarating Vocabulary and Dictionary"
   ]
  },
  {
   "cell_type": "code",
   "execution_count": 62,
   "id": "28b9e4ee",
   "metadata": {},
   "outputs": [
    {
     "name": "stderr",
     "output_type": "stream",
     "text": [
      "C:\\Users\\LENOVO\\anaconda3\\lib\\site-packages\\bs4\\__init__.py:435: MarkupResemblesLocatorWarning: The input looks more like a filename than markup. You may want to open this file and pass the filehandle into Beautiful Soup.\n",
      "  warnings.warn(\n",
      "C:\\Users\\LENOVO\\anaconda3\\lib\\site-packages\\bs4\\__init__.py:404: MarkupResemblesLocatorWarning: The input looks more like a URL than markup. You may want to use an HTTP client like requests to get the document behind the URL, and feed that document to Beautiful Soup.\n",
      "  warnings.warn(\n"
     ]
    }
   ],
   "source": [
    "## We wont be using all the words that apppear in the email body , but we weil be using \n",
    "#the most frequent words that appear int hese emails\n",
    "# We will be using 2500 most frequent words\n",
    "nested_list = data.MESSAGE.apply(clean_message) \n",
    "flat_list = [items for sublist in nested_list for items in sublist]\n",
    "##This includes a list of all words in all our emails inlcding spam and ham both\n",
    "# len(flat_list)\n",
    "\n",
    "# to convert this list into a panda series\n",
    "# reason to apply the value_count method to check for unique frequent words\n",
    "unique_words = pd.Series(flat_list).value_counts()\n"
   ]
  },
  {
   "cell_type": "code",
   "execution_count": 63,
   "id": "f3003f72",
   "metadata": {},
   "outputs": [],
   "source": [
    "frequent_words = unique_words[0:vocab_size] # #vocab_size defined in constants"
   ]
  },
  {
   "cell_type": "code",
   "execution_count": 64,
   "id": "bb30d8b4",
   "metadata": {},
   "outputs": [
    {
     "data": {
      "text/plain": [
       "http     10660\n",
       "use       5019\n",
       "list      4851\n",
       "email     4367\n",
       "get       4200\n",
       "mail      3983\n",
       "one       3907\n",
       "free      3202\n",
       "time      3042\n",
       "work      2883\n",
       "dtype: int64"
      ]
     },
     "execution_count": 64,
     "metadata": {},
     "output_type": "execute_result"
    }
   ],
   "source": [
    "frequent_words[:10] ## for printing top 10 frequent words"
   ]
  },
  {
   "cell_type": "code",
   "execution_count": 65,
   "id": "30ae55b0",
   "metadata": {},
   "outputs": [
    {
     "data": {
      "text/plain": [
       "pandas.core.series.Series"
      ]
     },
     "execution_count": 65,
     "metadata": {},
     "output_type": "execute_result"
    }
   ],
   "source": [
    "type(frequent_words)"
   ]
  },
  {
   "cell_type": "markdown",
   "id": "3844c332",
   "metadata": {},
   "source": [
    " ## Create Vocabulary Dataframe with a Word Id and saving it as a CSV file"
   ]
  },
  {
   "cell_type": "code",
   "execution_count": 66,
   "id": "c4bfc934",
   "metadata": {},
   "outputs": [
    {
     "data": {
      "text/html": [
       "<div>\n",
       "<style scoped>\n",
       "    .dataframe tbody tr th:only-of-type {\n",
       "        vertical-align: middle;\n",
       "    }\n",
       "\n",
       "    .dataframe tbody tr th {\n",
       "        vertical-align: top;\n",
       "    }\n",
       "\n",
       "    .dataframe thead th {\n",
       "        text-align: right;\n",
       "    }\n",
       "</style>\n",
       "<table border=\"1\" class=\"dataframe\">\n",
       "  <thead>\n",
       "    <tr style=\"text-align: right;\">\n",
       "      <th></th>\n",
       "      <th>VOCAB_WORD</th>\n",
       "    </tr>\n",
       "    <tr>\n",
       "      <th>WORD_ID</th>\n",
       "      <th></th>\n",
       "    </tr>\n",
       "  </thead>\n",
       "  <tbody>\n",
       "    <tr>\n",
       "      <th>0</th>\n",
       "      <td>http</td>\n",
       "    </tr>\n",
       "    <tr>\n",
       "      <th>1</th>\n",
       "      <td>use</td>\n",
       "    </tr>\n",
       "    <tr>\n",
       "      <th>2</th>\n",
       "      <td>list</td>\n",
       "    </tr>\n",
       "    <tr>\n",
       "      <th>3</th>\n",
       "      <td>email</td>\n",
       "    </tr>\n",
       "    <tr>\n",
       "      <th>4</th>\n",
       "      <td>get</td>\n",
       "    </tr>\n",
       "  </tbody>\n",
       "</table>\n",
       "</div>"
      ],
      "text/plain": [
       "        VOCAB_WORD\n",
       "WORD_ID           \n",
       "0             http\n",
       "1              use\n",
       "2             list\n",
       "3            email\n",
       "4              get"
      ]
     },
     "execution_count": 66,
     "metadata": {},
     "output_type": "execute_result"
    }
   ],
   "source": [
    "word_ids = range(0,vocab_size)\n",
    "vocab = pd.DataFrame({\"VOCAB_WORD\":frequent_words.index.values},index = word_ids)\n",
    "vocab.index.name = \"WORD_ID\"\n",
    "vocab.head()"
   ]
  },
  {
   "cell_type": "markdown",
   "id": "8a62acad",
   "metadata": {},
   "source": [
    " ## Save the Vocabulary as a CSV File"
   ]
  },
  {
   "cell_type": "code",
   "execution_count": 67,
   "id": "7fe0621b",
   "metadata": {},
   "outputs": [],
   "source": [
    "vocab.to_csv(WORD_ID_FILE,index_label =vocab.index.name ,header = vocab.VOCAB_WORD.name)"
   ]
  },
  {
   "cell_type": "markdown",
   "id": "194ef18f",
   "metadata": {},
   "source": [
    " ## Exercise :Check whether a code is in the vocabulary list"
   ]
  },
  {
   "cell_type": "code",
   "execution_count": 68,
   "id": "7cf9d9d7",
   "metadata": {},
   "outputs": [],
   "source": [
    "## Challenge write a code to check if the following words are in the vocabulary or not.\n",
    "## Return true if it is , if not false\n",
    "## check words : machine , learning , fun, data , science,app , brewery\n",
    "\n",
    "##code :\n"
   ]
  },
  {
   "cell_type": "markdown",
   "id": "5b1de3c1",
   "metadata": {},
   "source": [
    "## EXERCISE : Find the email with the most number of words"
   ]
  },
  {
   "cell_type": "code",
   "execution_count": 69,
   "id": "b5e3963b",
   "metadata": {},
   "outputs": [],
   "source": [
    "## Challenge : Print out the number of words in the longest email (after cleaning and stemming)\n",
    "## Note the longest email's position in the list of cleaned emails. Print out the stemmed list of words\n",
    "## in the longest email . Print out the longest email from the dataframe"
   ]
  },
  {
   "cell_type": "markdown",
   "id": "bae917f1",
   "metadata": {},
   "source": [
    "# Generate Features and Sparse Matrix"
   ]
  },
  {
   "cell_type": "markdown",
   "id": "352c9228",
   "metadata": {},
   "source": [
    "### Creating a Dataframe with One Word Column"
   ]
  },
  {
   "cell_type": "code",
   "execution_count": 70,
   "id": "9c7ae30c",
   "metadata": {},
   "outputs": [
    {
     "data": {
      "text/plain": [
       "DOC_ID\n",
       "0       [save, life, insur, spend, life, quot, save, g...\n",
       "1       [fight, risk, cancer, http, slim, guarante, lo...\n",
       "2       [fight, risk, cancer, http, slim, guarante, lo...\n",
       "3       [adult, club, offer, free, membership, instant...\n",
       "4       [thought, might, like, slim, guarante, lose, l...\n",
       "                              ...                        \n",
       "5791    [http, bizarr, collect, stuf, anim, could, fet...\n",
       "5792    [care, use, one, also, realli, cute, thing, ja...\n",
       "5793    [sm, skip, montanaro, write, jeremi, put, anot...\n",
       "5794    [mark, hammond, like, given, zodb, sound, attr...\n",
       "5795    [hi, probabl, use, whatsoev, also, problem, re...\n",
       "Name: MESSAGE, Length: 5796, dtype: object"
      ]
     },
     "execution_count": 70,
     "metadata": {},
     "output_type": "execute_result"
    }
   ],
   "source": [
    "nested_list ## This is a  series having lists for each mail which contains stemmed word from the email bodies\n",
    "## this list will contain all the 5786 mails and all the lists in this series contains stemmed word for each of the email body"
   ]
  },
  {
   "cell_type": "code",
   "execution_count": 71,
   "id": "17fb32b0",
   "metadata": {},
   "outputs": [
    {
     "data": {
      "text/plain": [
       "pandas.core.series.Series"
      ]
     },
     "execution_count": 71,
     "metadata": {},
     "output_type": "execute_result"
    }
   ],
   "source": [
    "type(nested_list) ## the nested list is a series having lists\n",
    "\n",
    "#to convert this series having lists into a dataframe we will convert this into a list having lists"
   ]
  },
  {
   "cell_type": "code",
   "execution_count": 72,
   "id": "9c2692e6",
   "metadata": {},
   "outputs": [],
   "source": [
    "# We convert a series into a list we use\n",
    "updated_nested_list = nested_list.tolist()\n",
    "# This gives a list containing list of all the stemmed word for each mail"
   ]
  },
  {
   "cell_type": "code",
   "execution_count": 73,
   "id": "e350a236",
   "metadata": {},
   "outputs": [],
   "source": [
    "# we convert this list of all list to a dataframe by using the ,from_records for the pd.DataFrame\n",
    "# and store it in a variable\n",
    "words_column_df = pd.DataFrame.from_records(updated_nested_list)\n"
   ]
  },
  {
   "cell_type": "code",
   "execution_count": 74,
   "id": "aa988182",
   "metadata": {},
   "outputs": [
    {
     "data": {
      "text/html": [
       "<div>\n",
       "<style scoped>\n",
       "    .dataframe tbody tr th:only-of-type {\n",
       "        vertical-align: middle;\n",
       "    }\n",
       "\n",
       "    .dataframe tbody tr th {\n",
       "        vertical-align: top;\n",
       "    }\n",
       "\n",
       "    .dataframe thead th {\n",
       "        text-align: right;\n",
       "    }\n",
       "</style>\n",
       "<table border=\"1\" class=\"dataframe\">\n",
       "  <thead>\n",
       "    <tr style=\"text-align: right;\">\n",
       "      <th></th>\n",
       "      <th>0</th>\n",
       "      <th>1</th>\n",
       "      <th>2</th>\n",
       "      <th>3</th>\n",
       "      <th>4</th>\n",
       "      <th>5</th>\n",
       "      <th>6</th>\n",
       "      <th>7</th>\n",
       "      <th>8</th>\n",
       "      <th>9</th>\n",
       "      <th>...</th>\n",
       "      <th>7661</th>\n",
       "      <th>7662</th>\n",
       "      <th>7663</th>\n",
       "      <th>7664</th>\n",
       "      <th>7665</th>\n",
       "      <th>7666</th>\n",
       "      <th>7667</th>\n",
       "      <th>7668</th>\n",
       "      <th>7669</th>\n",
       "      <th>7670</th>\n",
       "    </tr>\n",
       "  </thead>\n",
       "  <tbody>\n",
       "    <tr>\n",
       "      <th>0</th>\n",
       "      <td>save</td>\n",
       "      <td>life</td>\n",
       "      <td>insur</td>\n",
       "      <td>spend</td>\n",
       "      <td>life</td>\n",
       "      <td>quot</td>\n",
       "      <td>save</td>\n",
       "      <td>g</td>\n",
       "      <td>famili</td>\n",
       "      <td>financi</td>\n",
       "      <td>...</td>\n",
       "      <td>None</td>\n",
       "      <td>None</td>\n",
       "      <td>None</td>\n",
       "      <td>None</td>\n",
       "      <td>None</td>\n",
       "      <td>None</td>\n",
       "      <td>None</td>\n",
       "      <td>None</td>\n",
       "      <td>None</td>\n",
       "      <td>None</td>\n",
       "    </tr>\n",
       "    <tr>\n",
       "      <th>1</th>\n",
       "      <td>fight</td>\n",
       "      <td>risk</td>\n",
       "      <td>cancer</td>\n",
       "      <td>http</td>\n",
       "      <td>slim</td>\n",
       "      <td>guarante</td>\n",
       "      <td>lose</td>\n",
       "      <td>lb</td>\n",
       "      <td>day</td>\n",
       "      <td>http</td>\n",
       "      <td>...</td>\n",
       "      <td>None</td>\n",
       "      <td>None</td>\n",
       "      <td>None</td>\n",
       "      <td>None</td>\n",
       "      <td>None</td>\n",
       "      <td>None</td>\n",
       "      <td>None</td>\n",
       "      <td>None</td>\n",
       "      <td>None</td>\n",
       "      <td>None</td>\n",
       "    </tr>\n",
       "    <tr>\n",
       "      <th>2</th>\n",
       "      <td>fight</td>\n",
       "      <td>risk</td>\n",
       "      <td>cancer</td>\n",
       "      <td>http</td>\n",
       "      <td>slim</td>\n",
       "      <td>guarante</td>\n",
       "      <td>lose</td>\n",
       "      <td>lb</td>\n",
       "      <td>day</td>\n",
       "      <td>http</td>\n",
       "      <td>...</td>\n",
       "      <td>None</td>\n",
       "      <td>None</td>\n",
       "      <td>None</td>\n",
       "      <td>None</td>\n",
       "      <td>None</td>\n",
       "      <td>None</td>\n",
       "      <td>None</td>\n",
       "      <td>None</td>\n",
       "      <td>None</td>\n",
       "      <td>None</td>\n",
       "    </tr>\n",
       "    <tr>\n",
       "      <th>3</th>\n",
       "      <td>adult</td>\n",
       "      <td>club</td>\n",
       "      <td>offer</td>\n",
       "      <td>free</td>\n",
       "      <td>membership</td>\n",
       "      <td>instant</td>\n",
       "      <td>access</td>\n",
       "      <td>site</td>\n",
       "      <td>user</td>\n",
       "      <td>name</td>\n",
       "      <td>...</td>\n",
       "      <td>None</td>\n",
       "      <td>None</td>\n",
       "      <td>None</td>\n",
       "      <td>None</td>\n",
       "      <td>None</td>\n",
       "      <td>None</td>\n",
       "      <td>None</td>\n",
       "      <td>None</td>\n",
       "      <td>None</td>\n",
       "      <td>None</td>\n",
       "    </tr>\n",
       "    <tr>\n",
       "      <th>4</th>\n",
       "      <td>thought</td>\n",
       "      <td>might</td>\n",
       "      <td>like</td>\n",
       "      <td>slim</td>\n",
       "      <td>guarante</td>\n",
       "      <td>lose</td>\n",
       "      <td>lb</td>\n",
       "      <td>day</td>\n",
       "      <td>http</td>\n",
       "      <td>fight</td>\n",
       "      <td>...</td>\n",
       "      <td>None</td>\n",
       "      <td>None</td>\n",
       "      <td>None</td>\n",
       "      <td>None</td>\n",
       "      <td>None</td>\n",
       "      <td>None</td>\n",
       "      <td>None</td>\n",
       "      <td>None</td>\n",
       "      <td>None</td>\n",
       "      <td>None</td>\n",
       "    </tr>\n",
       "  </tbody>\n",
       "</table>\n",
       "<p>5 rows × 7671 columns</p>\n",
       "</div>"
      ],
      "text/plain": [
       "      0      1       2      3           4         5       6     7       8     \\\n",
       "0     save   life   insur  spend        life      quot    save     g  famili   \n",
       "1    fight   risk  cancer   http        slim  guarante    lose    lb     day   \n",
       "2    fight   risk  cancer   http        slim  guarante    lose    lb     day   \n",
       "3    adult   club   offer   free  membership   instant  access  site    user   \n",
       "4  thought  might    like   slim    guarante      lose      lb   day    http   \n",
       "\n",
       "      9     ...  7661  7662  7663  7664  7665  7666  7667  7668  7669  7670  \n",
       "0  financi  ...  None  None  None  None  None  None  None  None  None  None  \n",
       "1     http  ...  None  None  None  None  None  None  None  None  None  None  \n",
       "2     http  ...  None  None  None  None  None  None  None  None  None  None  \n",
       "3     name  ...  None  None  None  None  None  None  None  None  None  None  \n",
       "4    fight  ...  None  None  None  None  None  None  None  None  None  None  \n",
       "\n",
       "[5 rows x 7671 columns]"
      ]
     },
     "execution_count": 74,
     "metadata": {},
     "output_type": "execute_result"
    }
   ],
   "source": [
    "words_column_df.head()"
   ]
  },
  {
   "cell_type": "code",
   "execution_count": 75,
   "id": "83df47f4",
   "metadata": {},
   "outputs": [
    {
     "data": {
      "text/plain": [
       "(5796, 7671)"
      ]
     },
     "execution_count": 75,
     "metadata": {},
     "output_type": "execute_result"
    }
   ],
   "source": [
    "words_column_df.shape\n",
    "\n",
    "#5796 rows represent the total number of emails the we have supplied to the dataframe (both spam and ham)\n",
    "# The number 7671 represents the length of the longest email..i.e the largest number of words an email has\n",
    "# although the last columns may show a none value, there might be some mail in between the range of 5796 mails which may have the\n",
    "# end rows having some word\n"
   ]
  },
  {
   "cell_type": "markdown",
   "id": "30572b90",
   "metadata": {},
   "source": [
    "# Splitting the data into Training set and Test set"
   ]
  },
  {
   "cell_type": "code",
   "execution_count": 76,
   "id": "3dfe9225",
   "metadata": {},
   "outputs": [],
   "source": [
    "## import train_test_split from sklearn"
   ]
  },
  {
   "cell_type": "code",
   "execution_count": 77,
   "id": "cd27816c",
   "metadata": {},
   "outputs": [],
   "source": [
    "X_train, X_test, Y_train, Y_test = train_test_split(words_column_df, data.CATEGORY, test_size = 0.3 , random_state = 42)"
   ]
  },
  {
   "cell_type": "code",
   "execution_count": 78,
   "id": "cc72cb93",
   "metadata": {},
   "outputs": [
    {
     "name": "stdout",
     "output_type": "stream",
     "text": [
      "the number of samples in the train set is  4057\n",
      "The fraction of training set is  0.6999654934437544\n"
     ]
    }
   ],
   "source": [
    "# to analyse the test train split\n",
    "print(\"the number of samples in the train set is \", X_train.shape[0])\n",
    "print(\"The fraction of training set is \" , X_train.shape[0] / words_column_df.shape[0] )"
   ]
  },
  {
   "cell_type": "code",
   "execution_count": 79,
   "id": "9b25d9a9",
   "metadata": {},
   "outputs": [
    {
     "data": {
      "text/html": [
       "<div>\n",
       "<style scoped>\n",
       "    .dataframe tbody tr th:only-of-type {\n",
       "        vertical-align: middle;\n",
       "    }\n",
       "\n",
       "    .dataframe tbody tr th {\n",
       "        vertical-align: top;\n",
       "    }\n",
       "\n",
       "    .dataframe thead th {\n",
       "        text-align: right;\n",
       "    }\n",
       "</style>\n",
       "<table border=\"1\" class=\"dataframe\">\n",
       "  <thead>\n",
       "    <tr style=\"text-align: right;\">\n",
       "      <th></th>\n",
       "      <th>0</th>\n",
       "      <th>1</th>\n",
       "      <th>2</th>\n",
       "      <th>3</th>\n",
       "      <th>4</th>\n",
       "      <th>5</th>\n",
       "      <th>6</th>\n",
       "      <th>7</th>\n",
       "      <th>8</th>\n",
       "      <th>9</th>\n",
       "      <th>...</th>\n",
       "      <th>7661</th>\n",
       "      <th>7662</th>\n",
       "      <th>7663</th>\n",
       "      <th>7664</th>\n",
       "      <th>7665</th>\n",
       "      <th>7666</th>\n",
       "      <th>7667</th>\n",
       "      <th>7668</th>\n",
       "      <th>7669</th>\n",
       "      <th>7670</th>\n",
       "    </tr>\n",
       "    <tr>\n",
       "      <th>DOC_ID</th>\n",
       "      <th></th>\n",
       "      <th></th>\n",
       "      <th></th>\n",
       "      <th></th>\n",
       "      <th></th>\n",
       "      <th></th>\n",
       "      <th></th>\n",
       "      <th></th>\n",
       "      <th></th>\n",
       "      <th></th>\n",
       "      <th></th>\n",
       "      <th></th>\n",
       "      <th></th>\n",
       "      <th></th>\n",
       "      <th></th>\n",
       "      <th></th>\n",
       "      <th></th>\n",
       "      <th></th>\n",
       "      <th></th>\n",
       "      <th></th>\n",
       "      <th></th>\n",
       "    </tr>\n",
       "  </thead>\n",
       "  <tbody>\n",
       "    <tr>\n",
       "      <th>4844</th>\n",
       "      <td>ye</td>\n",
       "      <td>inde</td>\n",
       "      <td>agent</td>\n",
       "      <td>directori</td>\n",
       "      <td>verita</td>\n",
       "      <td>cd</td>\n",
       "      <td>unix</td>\n",
       "      <td>subdirectori</td>\n",
       "      <td>file</td>\n",
       "      <td>call</td>\n",
       "      <td>...</td>\n",
       "      <td>None</td>\n",
       "      <td>None</td>\n",
       "      <td>None</td>\n",
       "      <td>None</td>\n",
       "      <td>None</td>\n",
       "      <td>None</td>\n",
       "      <td>None</td>\n",
       "      <td>None</td>\n",
       "      <td>None</td>\n",
       "      <td>None</td>\n",
       "    </tr>\n",
       "    <tr>\n",
       "      <th>4727</th>\n",
       "      <td>problem</td>\n",
       "      <td>come</td>\n",
       "      <td>tri</td>\n",
       "      <td>instal</td>\n",
       "      <td>harddissssk</td>\n",
       "      <td>like</td>\n",
       "      <td>alreadi</td>\n",
       "      <td>mount</td>\n",
       "      <td>http</td>\n",
       "      <td>yahoo</td>\n",
       "      <td>...</td>\n",
       "      <td>None</td>\n",
       "      <td>None</td>\n",
       "      <td>None</td>\n",
       "      <td>None</td>\n",
       "      <td>None</td>\n",
       "      <td>None</td>\n",
       "      <td>None</td>\n",
       "      <td>None</td>\n",
       "      <td>None</td>\n",
       "      <td>None</td>\n",
       "    </tr>\n",
       "    <tr>\n",
       "      <th>5022</th>\n",
       "      <td>origin</td>\n",
       "      <td>messag</td>\n",
       "      <td>date</td>\n",
       "      <td>mon</td>\n",
       "      <td>aug</td>\n",
       "      <td>chad</td>\n",
       "      <td>norwood</td>\n",
       "      <td>sven</td>\n",
       "      <td>cc</td>\n",
       "      <td>subject</td>\n",
       "      <td>...</td>\n",
       "      <td>None</td>\n",
       "      <td>None</td>\n",
       "      <td>None</td>\n",
       "      <td>None</td>\n",
       "      <td>None</td>\n",
       "      <td>None</td>\n",
       "      <td>None</td>\n",
       "      <td>None</td>\n",
       "      <td>None</td>\n",
       "      <td>None</td>\n",
       "    </tr>\n",
       "    <tr>\n",
       "      <th>3504</th>\n",
       "      <td>inlin</td>\n",
       "      <td>folk</td>\n",
       "      <td>sever</td>\n",
       "      <td>major</td>\n",
       "      <td>internet</td>\n",
       "      <td>outag</td>\n",
       "      <td>morn</td>\n",
       "      <td>across</td>\n",
       "      <td>major</td>\n",
       "      <td>provid</td>\n",
       "      <td>...</td>\n",
       "      <td>None</td>\n",
       "      <td>None</td>\n",
       "      <td>None</td>\n",
       "      <td>None</td>\n",
       "      <td>None</td>\n",
       "      <td>None</td>\n",
       "      <td>None</td>\n",
       "      <td>None</td>\n",
       "      <td>None</td>\n",
       "      <td>None</td>\n",
       "    </tr>\n",
       "    <tr>\n",
       "      <th>3921</th>\n",
       "      <td>url</td>\n",
       "      <td>http</td>\n",
       "      <td>date</td>\n",
       "      <td>bath</td>\n",
       "      <td>chronicl</td>\n",
       "      <td>None</td>\n",
       "      <td>None</td>\n",
       "      <td>None</td>\n",
       "      <td>None</td>\n",
       "      <td>None</td>\n",
       "      <td>...</td>\n",
       "      <td>None</td>\n",
       "      <td>None</td>\n",
       "      <td>None</td>\n",
       "      <td>None</td>\n",
       "      <td>None</td>\n",
       "      <td>None</td>\n",
       "      <td>None</td>\n",
       "      <td>None</td>\n",
       "      <td>None</td>\n",
       "      <td>None</td>\n",
       "    </tr>\n",
       "  </tbody>\n",
       "</table>\n",
       "<p>5 rows × 7671 columns</p>\n",
       "</div>"
      ],
      "text/plain": [
       "           0       1      2          3            4      5        6     \\\n",
       "DOC_ID                                                                   \n",
       "4844         ye    inde  agent  directori       verita     cd     unix   \n",
       "4727    problem    come    tri     instal  harddissssk   like  alreadi   \n",
       "5022     origin  messag   date        mon          aug   chad  norwood   \n",
       "3504      inlin    folk  sever      major     internet  outag     morn   \n",
       "3921        url    http   date       bath     chronicl   None     None   \n",
       "\n",
       "                7      8        9     ...  7661  7662  7663  7664  7665  7666  \\\n",
       "DOC_ID                                ...                                       \n",
       "4844    subdirectori   file     call  ...  None  None  None  None  None  None   \n",
       "4727           mount   http    yahoo  ...  None  None  None  None  None  None   \n",
       "5022            sven     cc  subject  ...  None  None  None  None  None  None   \n",
       "3504          across  major   provid  ...  None  None  None  None  None  None   \n",
       "3921            None   None     None  ...  None  None  None  None  None  None   \n",
       "\n",
       "        7667  7668  7669  7670  \n",
       "DOC_ID                          \n",
       "4844    None  None  None  None  \n",
       "4727    None  None  None  None  \n",
       "5022    None  None  None  None  \n",
       "3504    None  None  None  None  \n",
       "3921    None  None  None  None  \n",
       "\n",
       "[5 rows x 7671 columns]"
      ]
     },
     "execution_count": 79,
     "metadata": {},
     "output_type": "execute_result"
    }
   ],
   "source": [
    "X_train.index.name = \"DOC_ID\"\n",
    "X_train.head()"
   ]
  },
  {
   "cell_type": "code",
   "execution_count": 96,
   "id": "d285be43",
   "metadata": {},
   "outputs": [
    {
     "data": {
      "text/plain": [
       "(4057, 7671)"
      ]
     },
     "execution_count": 96,
     "metadata": {},
     "output_type": "execute_result"
    }
   ],
   "source": [
    "X_train.shape"
   ]
  },
  {
   "cell_type": "code",
   "execution_count": 95,
   "id": "692eafc6",
   "metadata": {},
   "outputs": [
    {
     "data": {
      "text/plain": [
       "DOC_ID\n",
       "4844    0\n",
       "4727    0\n",
       "5022    0\n",
       "3504    0\n",
       "3921    0\n",
       "Name: CATEGORY, dtype: int64"
      ]
     },
     "execution_count": 95,
     "metadata": {},
     "output_type": "execute_result"
    }
   ],
   "source": [
    "Y_train.head()"
   ]
  },
  {
   "cell_type": "code",
   "execution_count": 97,
   "id": "b416b5e5",
   "metadata": {},
   "outputs": [
    {
     "data": {
      "text/plain": [
       "(4057,)"
      ]
     },
     "execution_count": 97,
     "metadata": {},
     "output_type": "execute_result"
    }
   ],
   "source": [
    "Y_train.shape"
   ]
  },
  {
   "cell_type": "code",
   "execution_count": 99,
   "id": "69ca3262",
   "metadata": {},
   "outputs": [
    {
     "data": {
      "text/plain": [
       "(1739,)"
      ]
     },
     "execution_count": 99,
     "metadata": {},
     "output_type": "execute_result"
    }
   ],
   "source": [
    "Y_test.shape"
   ]
  },
  {
   "cell_type": "markdown",
   "id": "c2b17e9d",
   "metadata": {},
   "source": [
    "### Creating a sparse matrix for the Training Data"
   ]
  },
  {
   "cell_type": "code",
   "execution_count": 80,
   "id": "497837c6",
   "metadata": {},
   "outputs": [
    {
     "data": {
      "text/plain": [
       "pandas.core.indexes.base.Index"
      ]
     },
     "execution_count": 80,
     "metadata": {},
     "output_type": "execute_result"
    }
   ],
   "source": [
    "word_index = pd.Index(vocab.VOCAB_WORD)\n",
    "type(word_index)"
   ]
  },
  {
   "cell_type": "code",
   "execution_count": 100,
   "id": "e0e39e42",
   "metadata": {},
   "outputs": [
    {
     "data": {
      "text/plain": [
       "Index(['http', 'use', 'list', 'email', 'get', 'mail', 'one', 'free', 'time',\n",
       "       'work',\n",
       "       ...\n",
       "       'fashion', 'invalid', 'raid', 'distributor', 'tobacco', 'till', 'corn',\n",
       "       'analog', 'apach', 'overnight'],\n",
       "      dtype='object', name='VOCAB_WORD', length=2500)"
      ]
     },
     "execution_count": 100,
     "metadata": {},
     "output_type": "execute_result"
    }
   ],
   "source": [
    "word_index"
   ]
  },
  {
   "cell_type": "code",
   "execution_count": 81,
   "id": "ba72ffdf",
   "metadata": {},
   "outputs": [
    {
     "data": {
      "text/plain": [
       "393"
      ]
     },
     "execution_count": 81,
     "metadata": {},
     "output_type": "execute_result"
    }
   ],
   "source": [
    "word_index.get_loc(\"thu\")"
   ]
  },
  {
   "cell_type": "code",
   "execution_count": 82,
   "id": "b6e8c0b2",
   "metadata": {},
   "outputs": [],
   "source": [
    "#### Sparse matrix function\n",
    "\n",
    "def make_sparse_matrix(df, indexed_words , labels):\n",
    "    \"\"\"\"\n",
    "    Returns sparse matrix as a dataframe\n",
    "    df: A dataframe with words in the colums with a document ID as index (X_train or X_test)\n",
    "    indexed_words :  index of words ordered by word id\n",
    "    labels : category as (y_train or y_test)\n",
    "    \n",
    "    \"\"\"\n",
    "    nr_rows = df.shape[0]\n",
    "    nr_columns = df.shape[1]\n",
    "    word_set = set(indexed_words)\n",
    "    \n",
    "    dict_list = []\n",
    "    \n",
    "    for i in range(nr_rows):\n",
    "        for j in range(nr_columns):\n",
    "            word = df.iat[i,j]     ### iat gives the word using the indices in the dataframe\n",
    "            if word in word_set:\n",
    "                doc_id = df.index[i]\n",
    "                word_id = indexed_words.get_loc(word) ##get_loc gives us the index of the word given in the parenthesis\n",
    "                category = labels.at[doc_id]\n",
    "                \n",
    "                item = {\"LABEL\" : category , \"DOC_ID\" : doc_id , \"WORD_ID\" : word_id , \"OCCURENCE\": 1}\n",
    "                \n",
    "                dict_list.append(item)\n",
    "                \n",
    "            \n",
    "    return pd.DataFrame(dict_list)\n",
    "    "
   ]
  },
  {
   "cell_type": "code",
   "execution_count": 83,
   "id": "1a8693b0",
   "metadata": {},
   "outputs": [
    {
     "name": "stdout",
     "output_type": "stream",
     "text": [
      "CPU times: total: 16min 45s\n",
      "Wall time: 18min 27s\n"
     ]
    }
   ],
   "source": [
    "%%time\n",
    "sparse_train_df = make_sparse_matrix(X_train, word_index, Y_train)"
   ]
  },
  {
   "cell_type": "code",
   "execution_count": 84,
   "id": "17908158",
   "metadata": {},
   "outputs": [
    {
     "data": {
      "text/plain": [
       "(429184, 4)"
      ]
     },
     "execution_count": 84,
     "metadata": {},
     "output_type": "execute_result"
    }
   ],
   "source": [
    "sparse_train_df.shape"
   ]
  },
  {
   "cell_type": "code",
   "execution_count": 101,
   "id": "d0d89cc9",
   "metadata": {},
   "outputs": [
    {
     "data": {
      "text/html": [
       "<div>\n",
       "<style scoped>\n",
       "    .dataframe tbody tr th:only-of-type {\n",
       "        vertical-align: middle;\n",
       "    }\n",
       "\n",
       "    .dataframe tbody tr th {\n",
       "        vertical-align: top;\n",
       "    }\n",
       "\n",
       "    .dataframe thead th {\n",
       "        text-align: right;\n",
       "    }\n",
       "</style>\n",
       "<table border=\"1\" class=\"dataframe\">\n",
       "  <thead>\n",
       "    <tr style=\"text-align: right;\">\n",
       "      <th></th>\n",
       "      <th>LABEL</th>\n",
       "      <th>DOC_ID</th>\n",
       "      <th>WORD_ID</th>\n",
       "      <th>OCCURENCE</th>\n",
       "    </tr>\n",
       "  </thead>\n",
       "  <tbody>\n",
       "    <tr>\n",
       "      <th>429179</th>\n",
       "      <td>1</td>\n",
       "      <td>860</td>\n",
       "      <td>47</td>\n",
       "      <td>1</td>\n",
       "    </tr>\n",
       "    <tr>\n",
       "      <th>429180</th>\n",
       "      <td>1</td>\n",
       "      <td>860</td>\n",
       "      <td>1431</td>\n",
       "      <td>1</td>\n",
       "    </tr>\n",
       "    <tr>\n",
       "      <th>429181</th>\n",
       "      <td>1</td>\n",
       "      <td>860</td>\n",
       "      <td>26</td>\n",
       "      <td>1</td>\n",
       "    </tr>\n",
       "    <tr>\n",
       "      <th>429182</th>\n",
       "      <td>1</td>\n",
       "      <td>860</td>\n",
       "      <td>21</td>\n",
       "      <td>1</td>\n",
       "    </tr>\n",
       "    <tr>\n",
       "      <th>429183</th>\n",
       "      <td>1</td>\n",
       "      <td>860</td>\n",
       "      <td>126</td>\n",
       "      <td>1</td>\n",
       "    </tr>\n",
       "  </tbody>\n",
       "</table>\n",
       "</div>"
      ],
      "text/plain": [
       "        LABEL  DOC_ID  WORD_ID  OCCURENCE\n",
       "429179      1     860       47          1\n",
       "429180      1     860     1431          1\n",
       "429181      1     860       26          1\n",
       "429182      1     860       21          1\n",
       "429183      1     860      126          1"
      ]
     },
     "execution_count": 101,
     "metadata": {},
     "output_type": "execute_result"
    }
   ],
   "source": [
    "sparse_train_df.tail()"
   ]
  },
  {
   "cell_type": "markdown",
   "id": "aaf70348",
   "metadata": {},
   "source": [
    "### Combine occurrences with pandas groupby( ) method"
   ]
  },
  {
   "cell_type": "code",
   "execution_count": 85,
   "id": "1d6be8eb",
   "metadata": {},
   "outputs": [
    {
     "data": {
      "text/html": [
       "<div>\n",
       "<style scoped>\n",
       "    .dataframe tbody tr th:only-of-type {\n",
       "        vertical-align: middle;\n",
       "    }\n",
       "\n",
       "    .dataframe tbody tr th {\n",
       "        vertical-align: top;\n",
       "    }\n",
       "\n",
       "    .dataframe thead th {\n",
       "        text-align: right;\n",
       "    }\n",
       "</style>\n",
       "<table border=\"1\" class=\"dataframe\">\n",
       "  <thead>\n",
       "    <tr style=\"text-align: right;\">\n",
       "      <th></th>\n",
       "      <th></th>\n",
       "      <th></th>\n",
       "      <th>OCCURENCE</th>\n",
       "    </tr>\n",
       "    <tr>\n",
       "      <th>DOC_ID</th>\n",
       "      <th>WORD_ID</th>\n",
       "      <th>LABEL</th>\n",
       "      <th></th>\n",
       "    </tr>\n",
       "  </thead>\n",
       "  <tbody>\n",
       "    <tr>\n",
       "      <th rowspan=\"5\" valign=\"top\">0</th>\n",
       "      <th>2</th>\n",
       "      <th>1</th>\n",
       "      <td>1</td>\n",
       "    </tr>\n",
       "    <tr>\n",
       "      <th>3</th>\n",
       "      <th>1</th>\n",
       "      <td>2</td>\n",
       "    </tr>\n",
       "    <tr>\n",
       "      <th>4</th>\n",
       "      <th>1</th>\n",
       "      <td>1</td>\n",
       "    </tr>\n",
       "    <tr>\n",
       "      <th>7</th>\n",
       "      <th>1</th>\n",
       "      <td>3</td>\n",
       "    </tr>\n",
       "    <tr>\n",
       "      <th>11</th>\n",
       "      <th>1</th>\n",
       "      <td>1</td>\n",
       "    </tr>\n",
       "  </tbody>\n",
       "</table>\n",
       "</div>"
      ],
      "text/plain": [
       "                      OCCURENCE\n",
       "DOC_ID WORD_ID LABEL           \n",
       "0      2       1              1\n",
       "       3       1              2\n",
       "       4       1              1\n",
       "       7       1              3\n",
       "       11      1              1"
      ]
     },
     "execution_count": 85,
     "metadata": {},
     "output_type": "execute_result"
    }
   ],
   "source": [
    "train_grouped = sparse_train_df.groupby([\"DOC_ID\",\"WORD_ID\",\"LABEL\"]).sum()\n",
    "train_grouped.head()\n"
   ]
  },
  {
   "cell_type": "code",
   "execution_count": 86,
   "id": "deea1d2a",
   "metadata": {},
   "outputs": [
    {
     "data": {
      "text/html": [
       "<div>\n",
       "<style scoped>\n",
       "    .dataframe tbody tr th:only-of-type {\n",
       "        vertical-align: middle;\n",
       "    }\n",
       "\n",
       "    .dataframe tbody tr th {\n",
       "        vertical-align: top;\n",
       "    }\n",
       "\n",
       "    .dataframe thead th {\n",
       "        text-align: right;\n",
       "    }\n",
       "</style>\n",
       "<table border=\"1\" class=\"dataframe\">\n",
       "  <thead>\n",
       "    <tr style=\"text-align: right;\">\n",
       "      <th></th>\n",
       "      <th>DOC_ID</th>\n",
       "      <th>WORD_ID</th>\n",
       "      <th>LABEL</th>\n",
       "      <th>OCCURENCE</th>\n",
       "    </tr>\n",
       "  </thead>\n",
       "  <tbody>\n",
       "    <tr>\n",
       "      <th>0</th>\n",
       "      <td>0</td>\n",
       "      <td>2</td>\n",
       "      <td>1</td>\n",
       "      <td>1</td>\n",
       "    </tr>\n",
       "    <tr>\n",
       "      <th>1</th>\n",
       "      <td>0</td>\n",
       "      <td>3</td>\n",
       "      <td>1</td>\n",
       "      <td>2</td>\n",
       "    </tr>\n",
       "    <tr>\n",
       "      <th>2</th>\n",
       "      <td>0</td>\n",
       "      <td>4</td>\n",
       "      <td>1</td>\n",
       "      <td>1</td>\n",
       "    </tr>\n",
       "    <tr>\n",
       "      <th>3</th>\n",
       "      <td>0</td>\n",
       "      <td>7</td>\n",
       "      <td>1</td>\n",
       "      <td>3</td>\n",
       "    </tr>\n",
       "    <tr>\n",
       "      <th>4</th>\n",
       "      <td>0</td>\n",
       "      <td>11</td>\n",
       "      <td>1</td>\n",
       "      <td>1</td>\n",
       "    </tr>\n",
       "  </tbody>\n",
       "</table>\n",
       "</div>"
      ],
      "text/plain": [
       "   DOC_ID  WORD_ID  LABEL  OCCURENCE\n",
       "0       0        2      1          1\n",
       "1       0        3      1          2\n",
       "2       0        4      1          1\n",
       "3       0        7      1          3\n",
       "4       0       11      1          1"
      ]
     },
     "execution_count": 86,
     "metadata": {},
     "output_type": "execute_result"
    }
   ],
   "source": [
    "## to keep the DOC_ID for every entry\n",
    "train_grouped = train_grouped.reset_index()\n",
    "train_grouped.head()"
   ]
  },
  {
   "cell_type": "code",
   "execution_count": 87,
   "id": "446296c4",
   "metadata": {},
   "outputs": [
    {
     "data": {
      "text/plain": [
       "(258332, 4)"
      ]
     },
     "execution_count": 87,
     "metadata": {},
     "output_type": "execute_result"
    }
   ],
   "source": [
    "train_grouped.shape"
   ]
  },
  {
   "cell_type": "markdown",
   "id": "2273c426",
   "metadata": {},
   "source": [
    "### Saving Training Data as .txt file"
   ]
  },
  {
   "cell_type": "code",
   "execution_count": 88,
   "id": "250828af",
   "metadata": {},
   "outputs": [],
   "source": [
    "np.savetxt(TRAINING_DATA_FILE, train_grouped, fmt=\"%d\")"
   ]
  },
  {
   "cell_type": "markdown",
   "id": "50806dd1",
   "metadata": {},
   "source": [
    " ### Creating a Sparse matrix for Test Data"
   ]
  },
  {
   "cell_type": "code",
   "execution_count": 89,
   "id": "8afb0d7e",
   "metadata": {},
   "outputs": [
    {
     "name": "stdout",
     "output_type": "stream",
     "text": [
      "CPU times: total: 7min 41s\n",
      "Wall time: 8min 4s\n"
     ]
    }
   ],
   "source": [
    "%%time\n",
    "sparse_test_df = make_sparse_matrix(X_test, word_index, Y_test)"
   ]
  },
  {
   "cell_type": "code",
   "execution_count": 90,
   "id": "040f8a2f",
   "metadata": {},
   "outputs": [
    {
     "data": {
      "text/plain": [
       "(203404, 4)"
      ]
     },
     "execution_count": 90,
     "metadata": {},
     "output_type": "execute_result"
    }
   ],
   "source": [
    "sparse_test_df.shape"
   ]
  },
  {
   "cell_type": "markdown",
   "id": "7616cf33",
   "metadata": {},
   "source": [
    "### Combine occurrences with pandas groupby( ) method"
   ]
  },
  {
   "cell_type": "code",
   "execution_count": 91,
   "id": "d3678663",
   "metadata": {},
   "outputs": [
    {
     "data": {
      "text/html": [
       "<div>\n",
       "<style scoped>\n",
       "    .dataframe tbody tr th:only-of-type {\n",
       "        vertical-align: middle;\n",
       "    }\n",
       "\n",
       "    .dataframe tbody tr th {\n",
       "        vertical-align: top;\n",
       "    }\n",
       "\n",
       "    .dataframe thead th {\n",
       "        text-align: right;\n",
       "    }\n",
       "</style>\n",
       "<table border=\"1\" class=\"dataframe\">\n",
       "  <thead>\n",
       "    <tr style=\"text-align: right;\">\n",
       "      <th></th>\n",
       "      <th>DOC_ID</th>\n",
       "      <th>WORD_ID</th>\n",
       "      <th>LABEL</th>\n",
       "      <th>OCCURENCE</th>\n",
       "    </tr>\n",
       "  </thead>\n",
       "  <tbody>\n",
       "    <tr>\n",
       "      <th>0</th>\n",
       "      <td>8</td>\n",
       "      <td>2</td>\n",
       "      <td>1</td>\n",
       "      <td>1</td>\n",
       "    </tr>\n",
       "    <tr>\n",
       "      <th>1</th>\n",
       "      <td>8</td>\n",
       "      <td>3</td>\n",
       "      <td>1</td>\n",
       "      <td>4</td>\n",
       "    </tr>\n",
       "    <tr>\n",
       "      <th>2</th>\n",
       "      <td>8</td>\n",
       "      <td>4</td>\n",
       "      <td>1</td>\n",
       "      <td>2</td>\n",
       "    </tr>\n",
       "    <tr>\n",
       "      <th>3</th>\n",
       "      <td>8</td>\n",
       "      <td>5</td>\n",
       "      <td>1</td>\n",
       "      <td>1</td>\n",
       "    </tr>\n",
       "    <tr>\n",
       "      <th>4</th>\n",
       "      <td>8</td>\n",
       "      <td>6</td>\n",
       "      <td>1</td>\n",
       "      <td>2</td>\n",
       "    </tr>\n",
       "  </tbody>\n",
       "</table>\n",
       "</div>"
      ],
      "text/plain": [
       "   DOC_ID  WORD_ID  LABEL  OCCURENCE\n",
       "0       8        2      1          1\n",
       "1       8        3      1          4\n",
       "2       8        4      1          2\n",
       "3       8        5      1          1\n",
       "4       8        6      1          2"
      ]
     },
     "execution_count": 91,
     "metadata": {},
     "output_type": "execute_result"
    }
   ],
   "source": [
    "test_grouped = sparse_test_df.groupby([\"DOC_ID\",\"WORD_ID\",\"LABEL\"]).sum()\n",
    "test_grouped = test_grouped.reset_index()\n",
    "test_grouped.head()"
   ]
  },
  {
   "cell_type": "code",
   "execution_count": 92,
   "id": "230296af",
   "metadata": {},
   "outputs": [
    {
     "data": {
      "text/plain": [
       "(117774, 4)"
      ]
     },
     "execution_count": 92,
     "metadata": {},
     "output_type": "execute_result"
    }
   ],
   "source": [
    "test_grouped.shape"
   ]
  },
  {
   "cell_type": "markdown",
   "id": "7cdbc703",
   "metadata": {},
   "source": [
    "### Saving Test Data as .txt file"
   ]
  },
  {
   "cell_type": "code",
   "execution_count": 93,
   "id": "563fe149",
   "metadata": {},
   "outputs": [],
   "source": [
    "np.savetxt(TEST_DATA_FILE, test_grouped, fmt=\"%d\")"
   ]
  }
 ],
 "metadata": {
  "kernelspec": {
   "display_name": "Python 3 (ipykernel)",
   "language": "python",
   "name": "python3"
  },
  "language_info": {
   "codemirror_mode": {
    "name": "ipython",
    "version": 3
   },
   "file_extension": ".py",
   "mimetype": "text/x-python",
   "name": "python",
   "nbconvert_exporter": "python",
   "pygments_lexer": "ipython3",
   "version": "3.9.12"
  }
 },
 "nbformat": 4,
 "nbformat_minor": 5
}
